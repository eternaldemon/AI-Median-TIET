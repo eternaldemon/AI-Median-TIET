{
  "nbformat": 4,
  "nbformat_minor": 0,
  "metadata": {
    "colab": {
      "name": "CNN Cifar10 ",
      "provenance": [],
      "authorship_tag": "ABX9TyOsFKH7iR1MOAwkWvLWq+nx",
      "include_colab_link": true
    },
    "kernelspec": {
      "name": "python3",
      "display_name": "Python 3"
    },
    "accelerator": "GPU"
  },
  "cells": [
    {
      "cell_type": "markdown",
      "metadata": {
        "id": "view-in-github",
        "colab_type": "text"
      },
      "source": [
        "<a href=\"https://colab.research.google.com/github/eternaldemon/AI-Median-TIET/blob/master/CNN_Cifar10.ipynb\" target=\"_parent\"><img src=\"https://colab.research.google.com/assets/colab-badge.svg\" alt=\"Open In Colab\"/></a>"
      ]
    },
    {
      "cell_type": "code",
      "metadata": {
        "id": "XCGhv1vDz7GG",
        "colab_type": "code",
        "colab": {
          "base_uri": "https://localhost:8080/",
          "height": 51
        },
        "outputId": "10436af7-4f81-460b-b25c-1701978f4b90"
      },
      "source": [
        "import numpy as np\n",
        "import matplotlib.pyplot as plt\n",
        "import tensorflow as tf\n",
        "\n",
        "data = tf.keras.datasets.cifar10\n",
        "\n",
        "(x_train,y_train), (x_test, y_test) = data.load_data()"
      ],
      "execution_count": 1,
      "outputs": [
        {
          "output_type": "stream",
          "text": [
            "Downloading data from https://www.cs.toronto.edu/~kriz/cifar-10-python.tar.gz\n",
            "170500096/170498071 [==============================] - 13s 0us/step\n"
          ],
          "name": "stdout"
        }
      ]
    },
    {
      "cell_type": "code",
      "metadata": {
        "id": "zGhbj6OO0kPU",
        "colab_type": "code",
        "colab": {
          "base_uri": "https://localhost:8080/",
          "height": 34
        },
        "outputId": "691de011-577a-4e37-c956-f5d046fd5217"
      },
      "source": [
        "x_train.shape"
      ],
      "execution_count": 2,
      "outputs": [
        {
          "output_type": "execute_result",
          "data": {
            "text/plain": [
              "(50000, 32, 32, 3)"
            ]
          },
          "metadata": {
            "tags": []
          },
          "execution_count": 2
        }
      ]
    },
    {
      "cell_type": "code",
      "metadata": {
        "id": "SksW_xdz4M4g",
        "colab_type": "code",
        "colab": {
          "base_uri": "https://localhost:8080/",
          "height": 34
        },
        "outputId": "944ad832-7f9b-4d55-d735-cdcc8ea8f8d9"
      },
      "source": [
        "x_train[0].shape #Shape of 1 image \n",
        "# Single image is of 32x32x3 where 3 are the no of colour formats here due to it being RGB"
      ],
      "execution_count": 3,
      "outputs": [
        {
          "output_type": "execute_result",
          "data": {
            "text/plain": [
              "(32, 32, 3)"
            ]
          },
          "metadata": {
            "tags": []
          },
          "execution_count": 3
        }
      ]
    },
    {
      "cell_type": "code",
      "metadata": {
        "id": "TyfLs64f-b3n",
        "colab_type": "code",
        "colab": {}
      },
      "source": [
        "x_train, x_test = x_train/255.0, x_test/255.0\n",
        "y_train, y_test = y_train.flatten(), y_test.flatten()\n"
      ],
      "execution_count": 4,
      "outputs": []
    },
    {
      "cell_type": "code",
      "metadata": {
        "id": "TGmqB1wO0nws",
        "colab_type": "code",
        "colab": {
          "base_uri": "https://localhost:8080/",
          "height": 867
        },
        "outputId": "fb3b1c77-b200-4484-8ad9-884ea812d5ba"
      },
      "source": [
        "from tensorflow.keras.layers import Input,Conv2D,Flatten,Dense,Dropout,MaxPooling2D,BatchNormalization\n",
        "from tensorflow.keras.models import Model \n",
        "\n",
        "K=10\n",
        "# Build the model using the functional API\n",
        "i = Input(shape=x_train[0].shape)\n",
        "# x = Conv2D(32, (3, 3), strides=2, activation='relu')(i)\n",
        "# x = Conv2D(64, (3, 3), strides=2, activation='relu')(x)\n",
        "# x = Conv2D(128, (3, 3), strides=2, activation='relu')(x)\n",
        "\n",
        "x = Conv2D(32, (3, 3), activation='relu', padding='same')(i)\n",
        "x = BatchNormalization()(x)\n",
        "x = Conv2D(32, (3, 3), activation='relu', padding='same')(x)\n",
        "x = BatchNormalization()(x)\n",
        "x = MaxPooling2D((2, 2))(x)\n",
        "# x = Dropout(0.2)(x)\n",
        "x = Conv2D(64, (3, 3), activation='relu', padding='same')(x)\n",
        "x = BatchNormalization()(x)\n",
        "x = Conv2D(64, (3, 3), activation='relu', padding='same')(x)\n",
        "x = BatchNormalization()(x)\n",
        "x = MaxPooling2D((2, 2))(x)\n",
        "# x = Dropout(0.2)(x)\n",
        "x = Conv2D(128, (3, 3), activation='relu', padding='same')(x)\n",
        "x = BatchNormalization()(x)\n",
        "x = Conv2D(128, (3, 3), activation='relu', padding='same')(x)\n",
        "x = BatchNormalization()(x)\n",
        "x = MaxPooling2D((2, 2))(x)\n",
        "# x = Dropout(0.2)(x)\n",
        "\n",
        "# x = GlobalMaxPooling2D()(x)\n",
        "x = Flatten()(x)\n",
        "x = Dropout(0.2)(x)\n",
        "x = Dense(1024, activation='relu')(x)\n",
        "x = Dropout(0.2)(x)\n",
        "x = Dense(K, activation='softmax')(x)\n",
        "\n",
        "model = Model(i, x)\n",
        "model.summary()\n",
        "\n",
        "\n"
      ],
      "execution_count": 18,
      "outputs": [
        {
          "output_type": "stream",
          "text": [
            "Model: \"model_3\"\n",
            "_________________________________________________________________\n",
            "Layer (type)                 Output Shape              Param #   \n",
            "=================================================================\n",
            "input_11 (InputLayer)        [(None, 32, 32, 3)]       0         \n",
            "_________________________________________________________________\n",
            "conv2d_29 (Conv2D)           (None, 32, 32, 32)        896       \n",
            "_________________________________________________________________\n",
            "batch_normalization_8 (Batch (None, 32, 32, 32)        128       \n",
            "_________________________________________________________________\n",
            "conv2d_30 (Conv2D)           (None, 32, 32, 32)        9248      \n",
            "_________________________________________________________________\n",
            "batch_normalization_9 (Batch (None, 32, 32, 32)        128       \n",
            "_________________________________________________________________\n",
            "max_pooling2d_3 (MaxPooling2 (None, 16, 16, 32)        0         \n",
            "_________________________________________________________________\n",
            "conv2d_31 (Conv2D)           (None, 16, 16, 64)        18496     \n",
            "_________________________________________________________________\n",
            "batch_normalization_10 (Batc (None, 16, 16, 64)        256       \n",
            "_________________________________________________________________\n",
            "conv2d_32 (Conv2D)           (None, 16, 16, 64)        36928     \n",
            "_________________________________________________________________\n",
            "batch_normalization_11 (Batc (None, 16, 16, 64)        256       \n",
            "_________________________________________________________________\n",
            "max_pooling2d_4 (MaxPooling2 (None, 8, 8, 64)          0         \n",
            "_________________________________________________________________\n",
            "conv2d_33 (Conv2D)           (None, 8, 8, 128)         73856     \n",
            "_________________________________________________________________\n",
            "batch_normalization_12 (Batc (None, 8, 8, 128)         512       \n",
            "_________________________________________________________________\n",
            "conv2d_34 (Conv2D)           (None, 8, 8, 128)         147584    \n",
            "_________________________________________________________________\n",
            "batch_normalization_13 (Batc (None, 8, 8, 128)         512       \n",
            "_________________________________________________________________\n",
            "max_pooling2d_5 (MaxPooling2 (None, 4, 4, 128)         0         \n",
            "_________________________________________________________________\n",
            "flatten_4 (Flatten)          (None, 2048)              0         \n",
            "_________________________________________________________________\n",
            "dropout_5 (Dropout)          (None, 2048)              0         \n",
            "_________________________________________________________________\n",
            "dense_7 (Dense)              (None, 1024)              2098176   \n",
            "_________________________________________________________________\n",
            "dropout_6 (Dropout)          (None, 1024)              0         \n",
            "_________________________________________________________________\n",
            "dense_8 (Dense)              (None, 10)                10250     \n",
            "=================================================================\n",
            "Total params: 2,397,226\n",
            "Trainable params: 2,396,330\n",
            "Non-trainable params: 896\n",
            "_________________________________________________________________\n"
          ],
          "name": "stdout"
        }
      ]
    },
    {
      "cell_type": "code",
      "metadata": {
        "id": "3Mf6_gPXBja_",
        "colab_type": "code",
        "colab": {
          "base_uri": "https://localhost:8080/",
          "height": 34
        },
        "outputId": "e4c5890c-11ec-4f8f-bfa2-bd9dbeacb00d"
      },
      "source": [
        "\n",
        "regularization_loss=tf.add_n(model.losses)\n",
        "print(regularization_loss)"
      ],
      "execution_count": 12,
      "outputs": [
        {
          "output_type": "stream",
          "text": [
            "Tensor(\"AddN:0\", shape=(), dtype=float32)\n"
          ],
          "name": "stdout"
        }
      ]
    },
    {
      "cell_type": "code",
      "metadata": {
        "id": "3Hat4o2z-mgd",
        "colab_type": "code",
        "colab": {}
      },
      "source": [
        "model.compile(optimizer='adam', loss='sparse_categorical_crossentropy', metrics=['accuracy'])\n",
        "#temp = model.fit(x_train, y_train, validation_data=(x_test,y_test), epochs =250,batch_size=100)"
      ],
      "execution_count": 19,
      "outputs": []
    },
    {
      "cell_type": "code",
      "metadata": {
        "id": "5lFEnVvxCxrs",
        "colab_type": "code",
        "colab": {
          "base_uri": "https://localhost:8080/",
          "height": 1000
        },
        "outputId": "173723c9-dc07-4695-d63f-4ac990b6ee7e"
      },
      "source": [
        "batch_size = 32\n",
        "data_generator = tf.keras.preprocessing.image.ImageDataGenerator(width_shift_range=0.1, height_shift_range=0.1, horizontal_flip=True)\n",
        "train_generator = data_generator.flow(x_train, y_train, batch_size)\n",
        "steps_per_epoch = x_train.shape[0] // batch_size\n",
        "temp = model.fit(train_generator, validation_data=(x_test, y_test), steps_per_epoch=steps_per_epoch, epochs=50)"
      ],
      "execution_count": 20,
      "outputs": [
        {
          "output_type": "stream",
          "text": [
            "Epoch 1/50\n",
            "1562/1562 [==============================] - 26s 17ms/step - loss: 1.4107 - accuracy: 0.5106 - val_loss: 1.2833 - val_accuracy: 0.5676\n",
            "Epoch 2/50\n",
            "1562/1562 [==============================] - 26s 16ms/step - loss: 0.9801 - accuracy: 0.6613 - val_loss: 1.0124 - val_accuracy: 0.6578\n",
            "Epoch 3/50\n",
            "1562/1562 [==============================] - 26s 17ms/step - loss: 0.8404 - accuracy: 0.7123 - val_loss: 0.8989 - val_accuracy: 0.7124\n",
            "Epoch 4/50\n",
            "1562/1562 [==============================] - 26s 16ms/step - loss: 0.7495 - accuracy: 0.7438 - val_loss: 0.8833 - val_accuracy: 0.7048\n",
            "Epoch 5/50\n",
            "1562/1562 [==============================] - 26s 17ms/step - loss: 0.6812 - accuracy: 0.7683 - val_loss: 0.6441 - val_accuracy: 0.7812\n",
            "Epoch 6/50\n",
            "1562/1562 [==============================] - 25s 16ms/step - loss: 0.6279 - accuracy: 0.7859 - val_loss: 0.5990 - val_accuracy: 0.8006\n",
            "Epoch 7/50\n",
            "1562/1562 [==============================] - 26s 16ms/step - loss: 0.5976 - accuracy: 0.7969 - val_loss: 0.5886 - val_accuracy: 0.8008\n",
            "Epoch 8/50\n",
            "1562/1562 [==============================] - 25s 16ms/step - loss: 0.5577 - accuracy: 0.8105 - val_loss: 0.5628 - val_accuracy: 0.8114\n",
            "Epoch 9/50\n",
            "1562/1562 [==============================] - 26s 16ms/step - loss: 0.5243 - accuracy: 0.8203 - val_loss: 0.5976 - val_accuracy: 0.8030\n",
            "Epoch 10/50\n",
            "1562/1562 [==============================] - 26s 16ms/step - loss: 0.4977 - accuracy: 0.8304 - val_loss: 0.5500 - val_accuracy: 0.8160\n",
            "Epoch 11/50\n",
            "1562/1562 [==============================] - 26s 16ms/step - loss: 0.4688 - accuracy: 0.8412 - val_loss: 0.5711 - val_accuracy: 0.8182\n",
            "Epoch 12/50\n",
            "1562/1562 [==============================] - 26s 16ms/step - loss: 0.4542 - accuracy: 0.8456 - val_loss: 0.4820 - val_accuracy: 0.8394\n",
            "Epoch 13/50\n",
            "1562/1562 [==============================] - 25s 16ms/step - loss: 0.4309 - accuracy: 0.8537 - val_loss: 0.4622 - val_accuracy: 0.8439\n",
            "Epoch 14/50\n",
            "1562/1562 [==============================] - 25s 16ms/step - loss: 0.4081 - accuracy: 0.8603 - val_loss: 0.4756 - val_accuracy: 0.8457\n",
            "Epoch 15/50\n",
            "1562/1562 [==============================] - 25s 16ms/step - loss: 0.3992 - accuracy: 0.8635 - val_loss: 0.4577 - val_accuracy: 0.8430\n",
            "Epoch 16/50\n",
            "1562/1562 [==============================] - 25s 16ms/step - loss: 0.3783 - accuracy: 0.8697 - val_loss: 0.4696 - val_accuracy: 0.8469\n",
            "Epoch 17/50\n",
            "1562/1562 [==============================] - 26s 17ms/step - loss: 0.3721 - accuracy: 0.8730 - val_loss: 0.4895 - val_accuracy: 0.8364\n",
            "Epoch 18/50\n",
            "1562/1562 [==============================] - 25s 16ms/step - loss: 0.3572 - accuracy: 0.8774 - val_loss: 0.4443 - val_accuracy: 0.8585\n",
            "Epoch 19/50\n",
            "1562/1562 [==============================] - 26s 16ms/step - loss: 0.3361 - accuracy: 0.8845 - val_loss: 0.4484 - val_accuracy: 0.8602\n",
            "Epoch 20/50\n",
            "1562/1562 [==============================] - 26s 16ms/step - loss: 0.3318 - accuracy: 0.8870 - val_loss: 0.4227 - val_accuracy: 0.8594\n",
            "Epoch 21/50\n",
            "1562/1562 [==============================] - 25s 16ms/step - loss: 0.3211 - accuracy: 0.8910 - val_loss: 0.4263 - val_accuracy: 0.8569\n",
            "Epoch 22/50\n",
            "1562/1562 [==============================] - 25s 16ms/step - loss: 0.3179 - accuracy: 0.8920 - val_loss: 0.4234 - val_accuracy: 0.8623\n",
            "Epoch 23/50\n",
            "1562/1562 [==============================] - 25s 16ms/step - loss: 0.3040 - accuracy: 0.8956 - val_loss: 0.4300 - val_accuracy: 0.8632\n",
            "Epoch 24/50\n",
            "1562/1562 [==============================] - 26s 16ms/step - loss: 0.2974 - accuracy: 0.8988 - val_loss: 0.4480 - val_accuracy: 0.8629\n",
            "Epoch 25/50\n",
            "1562/1562 [==============================] - 26s 16ms/step - loss: 0.2894 - accuracy: 0.9011 - val_loss: 0.5063 - val_accuracy: 0.8396\n",
            "Epoch 26/50\n",
            "1562/1562 [==============================] - 26s 17ms/step - loss: 0.2811 - accuracy: 0.9039 - val_loss: 0.3831 - val_accuracy: 0.8734\n",
            "Epoch 27/50\n",
            "1562/1562 [==============================] - 26s 17ms/step - loss: 0.2731 - accuracy: 0.9070 - val_loss: 0.4179 - val_accuracy: 0.8683\n",
            "Epoch 28/50\n",
            "1562/1562 [==============================] - 26s 16ms/step - loss: 0.2655 - accuracy: 0.9092 - val_loss: 0.4316 - val_accuracy: 0.8636\n",
            "Epoch 29/50\n",
            "1562/1562 [==============================] - 26s 17ms/step - loss: 0.2625 - accuracy: 0.9103 - val_loss: 0.4089 - val_accuracy: 0.8722\n",
            "Epoch 30/50\n",
            "1562/1562 [==============================] - 26s 16ms/step - loss: 0.2549 - accuracy: 0.9119 - val_loss: 0.4600 - val_accuracy: 0.8597\n",
            "Epoch 31/50\n",
            "1562/1562 [==============================] - 25s 16ms/step - loss: 0.2502 - accuracy: 0.9130 - val_loss: 0.4079 - val_accuracy: 0.8761\n",
            "Epoch 32/50\n",
            "1562/1562 [==============================] - 26s 17ms/step - loss: 0.2477 - accuracy: 0.9148 - val_loss: 0.4089 - val_accuracy: 0.8731\n",
            "Epoch 33/50\n",
            "1562/1562 [==============================] - 26s 17ms/step - loss: 0.2417 - accuracy: 0.9160 - val_loss: 0.4131 - val_accuracy: 0.8744\n",
            "Epoch 34/50\n",
            "1562/1562 [==============================] - 26s 17ms/step - loss: 0.2384 - accuracy: 0.9192 - val_loss: 0.3879 - val_accuracy: 0.8738\n",
            "Epoch 35/50\n",
            "1562/1562 [==============================] - 26s 17ms/step - loss: 0.2344 - accuracy: 0.9200 - val_loss: 0.3807 - val_accuracy: 0.8839\n",
            "Epoch 36/50\n",
            "1562/1562 [==============================] - 26s 17ms/step - loss: 0.2329 - accuracy: 0.9203 - val_loss: 0.4303 - val_accuracy: 0.8705\n",
            "Epoch 37/50\n",
            "1562/1562 [==============================] - 26s 17ms/step - loss: 0.2258 - accuracy: 0.9218 - val_loss: 0.3831 - val_accuracy: 0.8818\n",
            "Epoch 38/50\n",
            "1562/1562 [==============================] - 26s 17ms/step - loss: 0.2177 - accuracy: 0.9247 - val_loss: 0.3696 - val_accuracy: 0.8815\n",
            "Epoch 39/50\n",
            "1562/1562 [==============================] - 26s 17ms/step - loss: 0.2159 - accuracy: 0.9253 - val_loss: 0.4450 - val_accuracy: 0.8706\n",
            "Epoch 40/50\n",
            "1562/1562 [==============================] - 26s 17ms/step - loss: 0.2134 - accuracy: 0.9256 - val_loss: 0.3786 - val_accuracy: 0.8815\n",
            "Epoch 41/50\n",
            "1562/1562 [==============================] - 26s 17ms/step - loss: 0.2103 - accuracy: 0.9267 - val_loss: 0.3803 - val_accuracy: 0.8806\n",
            "Epoch 42/50\n",
            "1562/1562 [==============================] - 26s 17ms/step - loss: 0.2069 - accuracy: 0.9285 - val_loss: 0.3757 - val_accuracy: 0.8856\n",
            "Epoch 43/50\n",
            "1562/1562 [==============================] - 26s 16ms/step - loss: 0.2027 - accuracy: 0.9310 - val_loss: 0.3878 - val_accuracy: 0.8804\n",
            "Epoch 44/50\n",
            "1562/1562 [==============================] - 26s 17ms/step - loss: 0.2073 - accuracy: 0.9285 - val_loss: 0.3991 - val_accuracy: 0.8790\n",
            "Epoch 45/50\n",
            "1562/1562 [==============================] - 26s 17ms/step - loss: 0.1980 - accuracy: 0.9312 - val_loss: 0.3915 - val_accuracy: 0.8788\n",
            "Epoch 46/50\n",
            "1562/1562 [==============================] - 26s 16ms/step - loss: 0.1935 - accuracy: 0.9342 - val_loss: 0.4138 - val_accuracy: 0.8818\n",
            "Epoch 47/50\n",
            "1562/1562 [==============================] - 26s 16ms/step - loss: 0.1931 - accuracy: 0.9340 - val_loss: 0.3881 - val_accuracy: 0.8769\n",
            "Epoch 48/50\n",
            "1562/1562 [==============================] - 26s 16ms/step - loss: 0.1892 - accuracy: 0.9352 - val_loss: 0.3699 - val_accuracy: 0.8855\n",
            "Epoch 49/50\n",
            "1562/1562 [==============================] - 26s 16ms/step - loss: 0.1889 - accuracy: 0.9360 - val_loss: 0.3723 - val_accuracy: 0.8837\n",
            "Epoch 50/50\n",
            "1562/1562 [==============================] - 26s 16ms/step - loss: 0.1841 - accuracy: 0.9374 - val_loss: 0.3953 - val_accuracy: 0.8805\n"
          ],
          "name": "stdout"
        }
      ]
    },
    {
      "cell_type": "code",
      "metadata": {
        "id": "uJ9vc2X_Ca6S",
        "colab_type": "code",
        "colab": {
          "base_uri": "https://localhost:8080/",
          "height": 105
        },
        "outputId": "d4473b59-ee31-4570-8dec-49b79237e16b"
      },
      "source": [
        "'''\n",
        "import tempfile\n",
        "tmpdir = tempfile.mkdtemp()\n",
        "model2= tf.saved_model.save(model, tmpdir)\n",
        "'''"
      ],
      "execution_count": null,
      "outputs": [
        {
          "output_type": "stream",
          "text": [
            "WARNING:tensorflow:From /usr/local/lib/python3.6/dist-packages/tensorflow/python/ops/resource_variable_ops.py:1817: calling BaseResourceVariable.__init__ (from tensorflow.python.ops.resource_variable_ops) with constraint is deprecated and will be removed in a future version.\n",
            "Instructions for updating:\n",
            "If using Keras pass *_constraint arguments to layers.\n",
            "INFO:tensorflow:Assets written to: /tmp/tmp5dy4veex/assets\n"
          ],
          "name": "stdout"
        }
      ]
    },
    {
      "cell_type": "code",
      "metadata": {
        "id": "672c5e61_jyF",
        "colab_type": "code",
        "colab": {
          "base_uri": "https://localhost:8080/",
          "height": 265
        },
        "outputId": "58191c1d-72ed-48f8-fe92-befded24dd0c"
      },
      "source": [
        "plt.figure()\n",
        "plt.plot(temp.history['loss'], label='loss')\n",
        "plt.plot(temp.history['val_loss'], label='validation loss')\n",
        "plt.legend()\n",
        "plt.show()\n"
      ],
      "execution_count": 21,
      "outputs": [
        {
          "output_type": "display_data",
          "data": {
            "image/png": "[encoded data removed]",
            "text/plain": [
              "<Figure size 432x288 with 1 Axes>"
            ]
          },
          "metadata": {
            "tags": [],
            "needs_background": "light"
          }
        }
      ]
    },
    {
      "cell_type": "code",
      "metadata": {
        "id": "58X13u4d_-3v",
        "colab_type": "code",
        "colab": {
          "base_uri": "https://localhost:8080/",
          "height": 265
        },
        "outputId": "40a32a78-84d8-45da-cd4d-df1c3f236975"
      },
      "source": [
        "plt.figure()\n",
        "plt.plot(temp.history['accuracy'], label='accuracy')\n",
        "plt.plot(temp.history['val_accuracy'], label='validation accuracy')\n",
        "plt.legend()\n",
        "plt.show()"
      ],
      "execution_count": 22,
      "outputs": [
        {
          "output_type": "display_data",
          "data": {
            "image/png": "[encoded data removed]",
            "text/plain": [
              "<Figure size 432x288 with 1 Axes>"
            ]
          },
          "metadata": {
            "tags": [],
            "needs_background": "light"
          }
        }
      ]
    },
    {
      "cell_type": "code",
      "metadata": {
        "id": "ttThJiAZEZay",
        "colab_type": "code",
        "colab": {
          "base_uri": "https://localhost:8080/",
          "height": 51
        },
        "outputId": "b494015e-a3c7-4c52-9f87-880c1be0c614"
      },
      "source": [
        "model.evaluate(x_test,y_test)"
      ],
      "execution_count": 24,
      "outputs": [
        {
          "output_type": "stream",
          "text": [
            "313/313 [==============================] - 1s 3ms/step - loss: 0.3953 - accuracy: 0.8805\n"
          ],
          "name": "stdout"
        },
        {
          "output_type": "execute_result",
          "data": {
            "text/plain": [
              "[0.395266056060791, 0.8805000185966492]"
            ]
          },
          "metadata": {
            "tags": []
          },
          "execution_count": 24
        }
      ]
    },
    {
      "cell_type": "code",
      "metadata": {
        "id": "PHBgirmaDR7a",
        "colab_type": "code",
        "colab": {
          "base_uri": "https://localhost:8080/",
          "height": 498
        },
        "outputId": "153d9533-d6e3-490b-b012-3236bc6154fb"
      },
      "source": [
        "# Plot confusion matrix\n",
        "from sklearn.metrics import confusion_matrix\n",
        "import itertools\n",
        "\n",
        "def plot_confusion_matrix(cm, classes,\n",
        "                          normalize=False,\n",
        "                          title='Confusion matrix',\n",
        "                          cmap=plt.cm.Blues):\n",
        "  \"\"\"\n",
        "  This function prints and plots the confusion matrix.\n",
        "  Normalization can be applied by setting `normalize=True`.\n",
        "  \"\"\"\n",
        "  if normalize:\n",
        "      cm = cm.astype('float') / cm.sum(axis=1)[:, np.newaxis]\n",
        "      print(\"Normalized confusion matrix\")\n",
        "  else:\n",
        "      print('Confusion matrix, without normalization')\n",
        "\n",
        "  print(cm)\n",
        "\n",
        "  plt.imshow(cm, interpolation='nearest', cmap=cmap)\n",
        "  plt.title(title)\n",
        "  plt.colorbar()\n",
        "  tick_marks = np.arange(len(classes))\n",
        "  plt.xticks(tick_marks, classes, rotation=45)\n",
        "  plt.yticks(tick_marks, classes)\n",
        "\n",
        "  fmt = '.2f' if normalize else 'd'\n",
        "  thresh = cm.max() / 2.\n",
        "  for i, j in itertools.product(range(cm.shape[0]), range(cm.shape[1])):\n",
        "      plt.text(j, i, format(cm[i, j], fmt),\n",
        "               horizontalalignment=\"center\",\n",
        "               color=\"white\" if cm[i, j] > thresh else \"black\")\n",
        "\n",
        "  plt.tight_layout()\n",
        "  plt.ylabel('True label')\n",
        "  plt.xlabel('Predicted label')\n",
        "  plt.show()\n",
        "\n",
        "\n",
        "p_test = model.predict(x_test).argmax(axis=1)\n",
        "cm = confusion_matrix(y_test, p_test)\n",
        "plot_confusion_matrix(cm, list(range(10)))\n"
      ],
      "execution_count": 23,
      "outputs": [
        {
          "output_type": "stream",
          "text": [
            "Confusion matrix, without normalization\n",
            "[[895  17  38   6   4   0   3   8  10  19]\n",
            " [  6 964   0   1   0   0   1   0   1  27]\n",
            " [ 17   0 873  20  30  18  19  14   3   6]\n",
            " [ 12   5  49 736  28  89  30  21   5  25]\n",
            " [  5   2  36  26 849  25  19  37   1   0]\n",
            " [  5   2  30  79  18 814   9  33   0  10]\n",
            " [  6   4  28  15   8   3 925   5   1   5]\n",
            " [  7   0   9   5  14  16   1 945   1   2]\n",
            " [ 63  31   3   4   2   1   1   4 863  28]\n",
            " [  6  42   2   3   0   1   1   1   3 941]]\n"
          ],
          "name": "stdout"
        },
        {
          "output_type": "display_data",
          "data": {
            "image/png": "[encoded data removed]",
            "text/plain": [
              "<Figure size 432x288 with 2 Axes>"
            ]
          },
          "metadata": {
            "tags": [],
            "needs_background": "light"
          }
        }
      ]
    },
    {
      "cell_type": "code",
      "metadata": {
        "id": "UzyZSGFrDeIX",
        "colab_type": "code",
        "colab": {}
      },
      "source": [
        "# label mapping\n",
        "labels = '''airplane\n",
        "automobile\n",
        "bird\n",
        "cat\n",
        "deer\n",
        "dog\n",
        "frog\n",
        "horse\n",
        "ship\n",
        "truck'''.split()"
      ],
      "execution_count": 25,
      "outputs": []
    },
    {
      "cell_type": "code",
      "metadata": {
        "id": "vVKw1MtDDftx",
        "colab_type": "code",
        "colab": {
          "base_uri": "https://localhost:8080/",
          "height": 281
        },
        "outputId": "4822640d-6871-4eac-bce1-350d3a2de413"
      },
      "source": [
        "# Showing some misclassified examples\n",
        "# Run this code snippet again and again to get a new misclassified prediction\n",
        "misclassified_idx = np.where(p_test != y_test)[0]\n",
        "i = np.random.choice(misclassified_idx)\n",
        "plt.imshow(x_test[i], cmap='gray')\n",
        "plt.title(\"True label: %s Predicted: %s\" % (labels[y_test[i]], labels[p_test[i]]));"
      ],
      "execution_count": 28,
      "outputs": [
        {
          "output_type": "display_data",
          "data": {
            "image/png": "[encoded data removed]",
            "text/plain": [
              "<Figure size 432x288 with 1 Axes>"
            ]
          },
          "metadata": {
            "tags": [],
            "needs_background": "light"
          }
        }
      ]
    }
  ]
}
