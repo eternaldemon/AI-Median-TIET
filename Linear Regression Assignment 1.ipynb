{
  "nbformat": 4,
  "nbformat_minor": 0,
  "metadata": {
    "colab": {
      "name": "LinearRegression Sklearn.ipynb",
      "provenance": [],
      "collapsed_sections": [],
      "authorship_tag": "ABX9TyPH9jAPoV3C0HsnzpoyI/Ln",
      "include_colab_link": true
    },
    "kernelspec": {
      "name": "python3",
      "display_name": "Python 3"
    }
  },
  "cells": [
    {
      "cell_type": "markdown",
      "metadata": {
        "id": "view-in-github",
        "colab_type": "text"
      },
      "source": [
        "<a href=\"https://colab.research.google.com/github/eternaldemon/AI-Median-TIET/blob/master/Linear%20Regression%20Assignment%201.ipynb\" target=\"_parent\"><img src=\"https://colab.research.google.com/assets/colab-badge.svg\" alt=\"Open In Colab\"/></a>"
      ]
    },
    {
      "cell_type": "code",
      "metadata": {
        "id": "e1rO3fbNxwbZ",
        "colab_type": "code",
        "colab": {
          "resources": {
            "http://localhost:8080/nbextensions/google.colab/files.js": {
              "data": "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",
              "ok": true,
              "headers": [
                [
                  "content-type",
                  "application/javascript"
                ]
              ],
              "status": 200,
              "status_text": ""
            }
          },
          "base_uri": "https://localhost:8080/",
          "height": 109
        },
        "outputId": "0140c650-3d47-4377-f051-8cd106979a60"
      },
      "source": [
        "from sklearn.linear_model import LinearRegression\n",
        "from sklearn.preprocessing import LabelEncoder,OneHotEncoder\n",
        "from sklearn.compose import ColumnTransformer\n",
        "import pandas as pd\n",
        "import numpy as np\n",
        "import matplotlib.pyplot as plt\n",
        "from google.colab import files\n",
        "files.upload()"
      ],
      "execution_count": null,
      "outputs": [
        {
          "output_type": "display_data",
          "data": {
            "text/html": [
              "\n",
              "     <input type=\"file\" id=\"files-7aa4af6f-9246-48fd-90df-0df5dbc4e15f\" name=\"files[]\" multiple disabled\n",
              "        style=\"border:none\" />\n",
              "     <output id=\"result-7aa4af6f-9246-48fd-90df-0df5dbc4e15f\">\n",
              "      Upload widget is only available when the cell has been executed in the\n",
              "      current browser session. Please rerun this cell to enable.\n",
              "      </output>\n",
              "      <script src=\"/nbextensions/google.colab/files.js\"></script> "
            ],
            "text/plain": [
              "<IPython.core.display.HTML object>"
            ]
          },
          "metadata": {
            "tags": []
          }
        },
        {
          "output_type": "stream",
          "text": [
            "Saving Car_Purchasing_Data.csv to Car_Purchasing_Data (1).csv\n"
          ],
          "name": "stdout"
        },
        {
          "output_type": "execute_result",
          "data": {
            "text/plain": [
              "{'Car_Purchasing_Data.csv': b'Customer Name,Customer e-mail,Country,Gender,Age,Annual Salary,Credit Card Debt,Net Worth,Car Purchase Amount\\r\\nMartina Avila,cubilia.Curae.Phasellus@quisaccumsanconvallis.edu,Bulgaria,0,41.8517198,62812.09301,11609.38091,238961.2505,35321.45877\\r\\nHarlan Barnes,eu.dolor@diam.co.uk,Belize,0,40.87062335,66646.89292,9572.957136,530973.9078,45115.52566\\r\\nNaomi Rodriquez,vulputate.mauris.sagittis@ametconsectetueradipiscing.co.uk,Algeria,1,43.15289747,53798.55112,11160.35506,638467.1773,42925.70921\\r\\nJade Cunningham,malesuada@dignissim.com,Cook Islands,1,58.27136945,79370.03798,14426.16485,548599.0524,67422.36313\\r\\nCedric Leach,felis.ullamcorper.viverra@egetmollislectus.net,Brazil,1,57.31374945,59729.1513,5358.712177,560304.0671,55915.46248\\r\\nCarla Hester,mi@Aliquamerat.edu,Liberia,1,56.82489312,68499.85162,14179.47244,428485.3604,56611.99784\\r\\nGriffin Rivera,vehicula@at.co.uk,Syria,1,46.60731485,39814.522,5958.460188,326373.1812,28925.70549\\r\\nOrli Casey,nunc.est.mollis@Suspendissetristiqueneque.co.uk,Czech Republic,1,50.19301623,51752.23445,10985.69656,629312.4041,47434.98265\\r\\nMarny Obrien,Phasellus@sedsemegestas.org,Armenia,0,46.58474463,58139.2591,3440.823799,630059.0274,48013.6141\\r\\nRhonda Chavez,nec@nuncest.com,Somalia,1,43.32378156,53457.10132,12884.07868,476643.3544,38189.50601\\r\\nJerome Rowe,ipsum.cursus@dui.org,Sint Maarten,1,50.12992275,73348.70745,8270.707359,612738.6171,59045.51309\\r\\nAkeem Gibson,turpis.egestas.Fusce@purus.edu,Greenland,1,53.18015845,55421.65733,10014.96929,293862.5123,42288.81046\\r\\nQuin Smith,nulla@ipsum.edu,Nicaragua,0,44.3964937,37336.3383,10218.32092,430907.1673,28700.0334\\r\\nTatum Moon,Cras.sed.leo@Seddiamlorem.ca,\"Palestine, State of\",0,48.49651504,68304.47298,9466.995128,420322.0702,49258.87571\\r\\nSharon Sharpe,eget.metus@aaliquetvel.co.uk,United Arab Emirates,0,55.24486604,72776.00382,10597.63814,146344.8965,49510.03356\\r\\nThomas Williams,aliquet.molestie@ut.org,Gabon,1,53.28976788,64662.30061,11326.03434,481433.4324,53017.26723\\r\\nBlaine Bender,ultrices.posuere.cubilia@pedenonummyut.net,Tokelau,0,44.74219952,63259.87837,11495.54999,370356.2223,41814.72067\\r\\nStephen Lindsey,erat.eget.ipsum@tinciduntpede.org,Portugal,1,48.12708462,52682.06401,12514.52029,549443.5886,43901.71244\\r\\nSloane Mann,at.augue@augue.net,Chad,1,51.85347374,54503.14423,7377.820914,431098.9998,44633.99241\\r\\nAthena Wolf,volutpat.Nulla.facilisis@primis.ca,Iraq,0,58.74184223,55368.23716,13272.94647,566022.1306,54827.52403\\r\\nBlythe Romero,Sed.eu@risusNuncac.co.uk,Sudan,1,51.90047138,63435.86304,11878.03779,480588.2345,51130.95379\\r\\nZelenia Byers,auctor.non@sapien.co.uk,Angola,0,48.08111958,64347.34531,10905.36628,307226.0977,43402.31525\\r\\nNola Wiggins,Aliquam@augue.edu,Nigeria,1,45.53184183,65176.69055,7698.552234,497526.4566,47240.86004\\r\\nMicah Wheeler,arcu.eu@tincidunt.org,Madagascar,1,47.02228427,52027.63837,11960.85377,688466.0503,46635.49432\\r\\nCaryn Hendrix,condimentum.Donec@duiCum.com,Macedonia,0,39.94299532,69612.0123,8125.598993,499086.3442,45078.40193\\r\\nHedda Miranda,scelerisque@magnased.com,Oman,0,52.57744084,53065.57175,17805.57607,429440.3297,44387.58412\\r\\nUlric Lynn,sociis@vulputateveliteu.com,Colombia,0,28.0096755,82842.53385,13102.15805,315775.3207,37161.55393\\r\\nAlma Pope,Nunc.mauris.Morbi@turpis.org,Namibia,0,55.63031699,61388.62709,14270.00731,341691.9337,49091.97185\\r\\nGemma Hendrix,lobortis@non.co.uk,Denmark,1,46.12403587,100000,17452.92179,188032.0778,58350.31809\\r\\nCastor Wood,velit.Pellentesque@Nulla.net,Dominican Republic,1,40.24532734,62891.86556,12522.94052,583230.976,43994.35972\\r\\nHerman Stevenson,sociosqu.ad.litora@erat.com,Costa Rica,1,33.48313022,39627.1248,9371.511071,319837.6593,17584.56963\\r\\nAdrienne Bolton,dictum@magnaPraesent.ca,Botswana,1,40.38546326,68859.56489,13417.02027,486069.073,44650.36073\\r\\nDahlia Cleveland,tincidunt.tempus@idsapien.co.uk,Saint Pierre and Miquelon,1,51.31671367,82358.22683,8092.475103,655934.4666,66363.89316\\r\\nKeane Browning,Curabitur@acipsumPhasellus.co.uk,France,0,51.4805088,67904.39895,11417.30952,487435.964,53489.46214\\r\\nQuon Hull,nascetur.ridiculus.mus@dignissim.co.uk,Senegal,0,46.31841716,65311.68225,7988.753685,215673.5384,39810.34817\\r\\nCoby Charles,nec@dolornonummyac.com,Cambodia,0,50.50341115,59593.2624,12252.73058,612242.7755,51612.14311\\r\\nAmery Cortez,semper.et.lacinia@Morbiquisurna.ca,Suriname,1,49.85387098,47460.54809,7405.534271,430624.8142,38978.67458\\r\\nUriel Bradshaw,ultrices@Integersemelit.com,Turkey,1,22.00038672,43131.78411,10917.14094,326742.7352,10092.22509\\r\\nFredericka Sanders,Curabitur@Infaucibus.ca,Ethiopia,0,50.51602163,52263.69806,8838.759509,213040.9606,35928.52404\\r\\nChristopher Stevens,blandit.enim@lacusvariuset.org,French Guiana,1,48.04729589,80959.5331,4499.921096,379749.9152,54823.19221\\r\\nRachel Ashley,tincidunt.tempus.risus@posuerecubiliaCurae.co.uk,Turkey,0,42.44978638,66417.66597,9183.327621,513340.0097,45805.67186\\r\\nLael Wright,a@consequatpurusMaecenas.com,Bhutan,1,46.26908486,58457.41492,12491.01273,410655.9947,41567.47033\\r\\nRyder Shaffer,Phasellus.dapibus.quam@inhendrerit.ca,Georgia,0,37.58459582,50571.45969,13338.32852,348833.8403,28031.20985\\r\\nEric Noel,lacinia.at.iaculis@Fuscefermentumfermentum.edu,Mozambique,1,38.7730024,50943.16256,10816.8855,299734.1278,27815.73813\\r\\nTamara Guy,nec.eleifend@orci.org,Nauru,1,61.22413159,79792.13096,14245.53319,497950.2933,68678.4352\\r\\nQuincy Bell,in@Duisgravida.co.uk,Timor-Leste,0,55.27514264,70787.27764,10155.34095,853913.8532,68925.09447\\r\\nLee Taylor,Vivamus.nisi.Mauris@miAliquam.co.uk,Djibouti,1,42.22589031,56098.50773,11675.28496,320228.6451,34215.7615\\r\\nKenneth Pope,vitae.sodales.at@molestiearcuSed.org,Argentina,0,51.16813904,57478.37922,2230.096344,158979.7102,37843.46619\\r\\nReese Vance,egestas@malesuadavelvenenatis.com,Taiwan,1,41.44430677,60181.40633,7094.896557,390312.1715,37883.24231\\r\\nQuon Carroll,sodales@pharetra.com,\\xc5land Islands,0,40.08331711,74445.08168,7915.758178,527420.7269,48734.35708\\r\\nMagee Davidson,Quisque@tempor.net,Turks and Caicos Islands,1,41.1638484,38406.7789,11023.00268,451846.1995,27187.23914\\r\\nLeilani Gross,dignissim@mollisDuissit.org,Samoa,0,55.78242299,64616.6881,12378.54089,779925.7892,63738.39065\\r\\nMorgan William,sociis.natoque.penatibus@uterat.ca,Vanuatu,0,46.23366001,68107.93144,7813.602657,455609.1429,48266.75516\\r\\nFrancesca Cervantes,leo@sitametdapibus.edu,Mongolia,1,36.67318264,72471.81532,11216.88676,583523.0762,46381.13111\\r\\nRafael Peterson,lectus.a.sollicitudin@tortorat.net,Sri Lanka,1,52.46564908,35069.41886,1851.979839,353757.5057,31978.9799\\r\\nRoanna Knox,dolor.nonummy@metusurnaconvallis.net,Guinea-Bissau,0,57.12191756,52422.94691,6998.46562,438067.7506,48100.29052\\r\\nMarny Vargas,nonummy.Fusce.fermentum@ligula.org,Egypt,1,33.81629802,84467.78988,7772.444847,468238.7915,47380.91224\\r\\nCharlotte Waller,odio@Nuncac.org,Slovenia,1,43.03088068,51419.50777,11331.20447,636407.1148,41425.00116\\r\\nDorian Hernandez,conubia.nostra.per@diam.co.uk,Benin,1,50.16597776,46609.51626,7592.019748,409419.5797,38147.81018\\r\\nArmando Hensley,Class.aptent@torquentper.com,Cape Verde,1,42.24181684,55207.45679,9976.434857,286062.5162,32737.80177\\r\\nRowan Kidd,sapien.Aenean.massa@adipiscing.ca,Paraguay,1,42.05808927,46689.4159,7829.565502,615765.9289,37348.13737\\r\\nGwendolyn Rice,Duis@metusIn.com,Laos,0,42.09853578,71847.2544,4225.328117,476088.3996,47483.85316\\r\\nGareth Morris,est.Nunc.laoreet@nullavulputatedui.edu,Iceland,0,54.55868922,69236.68608,9842.842611,242495.9886,49730.53339\\r\\nSawyer Carney,erat.Sed@Phasellus.ca,Iceland,0,53.15575545,54006.77851,15189.08845,246321.8916,40093.61981\\r\\nRaya Shields,tincidunt.aliquam@orciluctuset.com,Viet Nam,0,53.05769018,47228.35999,9046.182396,456634.2073,42297.5062\\r\\nOlga Serrano,risus@urnasuscipitnonummy.edu,Marshall Islands,0,43.29935025,70187.50328,6841.540577,662176.4851,52954.93121\\r\\nYuli Craig,lobortis.quis.pede@Seddiam.com,Germany,0,55.27030631,62262.94845,11785.87919,301026.2206,48104.11184\\r\\nLev Kramer,eu.odio@tristique.org,Kyrgyzstan,1,42.69528911,59195.82899,8634.376791,573054.3808,43680.91327\\r\\nNissim Acosta,enim@at.net,Mauritius,1,57.34721558,48716.67271,10886.91711,662382.6623,52707.96816\\r\\nMiranda Berry,lorem@necmauris.ca,Gambia,1,52.07227701,66478.00967,13685.88702,356553.3996,49392.8897\\r\\nOwen Jacobson,ac.orci@Etiamimperdietdictum.edu,\"Palestine, State of\",1,45.18543793,50280.0045,11350.49408,230728.3008,30841.00154\\r\\nMarvin Becker,congue.elit@vestibulumneceuismod.ca,Reunion,0,56.2157522,57393.82872,5627.803654,411831.0371,49373.37555\\r\\nDavis Scott,neque@variusultricesmauris.edu,Jordan,0,40.91485207,63429.93141,10676.21884,481335.3582,41903.65171\\r\\nMatthew Colon,facilisis@Nullainterdum.edu,Slovakia,1,47.78972925,59139.2108,4630.544424,473845.8546,45058.8969\\r\\nQuinlan Harris,libero.nec@adipiscing.org,Kiribati,1,56.04151533,67015.19372,13000.41369,355157.6417,52991.52667\\r\\nHedley Greene,eleifend@felis.org,United States Minor Outlying Islands,0,46.96078061,69157.4521,15791.61176,506986.9824,50958.08115\\r\\nOrson Kirby,cursus@nectellus.co.uk,Puerto Rico,1,53.3541878,50867.94007,16732.30638,344916.1768,41357.17897\\r\\nAdria Mathis,Aliquam.rutrum.lorem@Donec.net,Guinea,1,56.51952929,53450.90036,8740.723093,309113.0627,44434.71917\\r\\nPeter Stout,dictum.mi.ac@semperrutrumFusce.com,Guam,0,39.1476732,70463.99084,10059.55406,278799.6958,38502.42392\\r\\nCleo Moore,pede.et@Sedeu.com,China,0,45.22565147,52697.15192,861.8166529,540805.494,41221.24918\\r\\nCally Montoya,sit@pedeCum.ca,Sierra Leone,1,33.02638894,71055.41924,6147.918843,441527.0144,38399.46139\\r\\nIla Farrell,lacus@velit.edu,Sint Maarten,1,44.30297784,55406.46215,9522.576495,523251.2663,41456.68097\\r\\nAbel Stanton,eu.lacus.Quisque@congue.edu,Ecuador,1,39.71715527,48567.07462,9724.031647,407401.3776,30394.82494\\r\\nReed Roman,laoreet.libero@laoreetlectus.com,Anguilla,0,39.90467755,69506.62127,5449.471997,409293.2658,42384.05128\\r\\nSeptember Puckett,tincidunt@consequatpurusMaecenas.net,Kazakhstan,1,36.72080894,69453.71659,9565.830875,386128.1333,39002.0771\\r\\nTeegan Barr,non.lorem.vitae@eratVivamus.org,Jersey,1,40.17883971,36929.35124,9719.192898,245664.3652,19553.2739\\r\\nAlexander York,eu.odio.Phasellus@ipsumporta.edu,Ecuador,1,44.48691527,63087.95261,11024.02643,496856.4912,45167.32542\\r\\nJared Green,laoreet@sagittis.edu,Macao,0,43.42751716,50889.34054,11041.17891,448601.9484,36019.9556\\r\\nEagan Woodward,varius.et@Maecenas.edu,Indonesia,1,58.42573253,58065.25694,4204.920492,388498.5102,50937.93844\\r\\nFerdinand Weber,metus.Vivamus@vitaeposuere.org,Suriname,1,32.09408141,20000,14261.80773,579181.6552,12895.71468\\r\\nKitra Kerr,scelerisque@Vivamusnon.co.uk,Palau,1,49.95601436,60536.20406,8244.470226,173079.1798,38955.21919\\r\\nDesirae Stone,Morbi.sit@Aliquamfringilla.ca,Ghana,1,58.61073311,50667.69759,9871.403591,536665.0464,51221.04249\\r\\nLen Phillips,libero.lacus@Suspendisseseddolor.net,Cameroon,1,42.37110355,44376.62221,13865.09055,259049.2824,25971.95673\\r\\nYen Santana,ornare.facilisis@ornarelibero.ca,Myanmar,0,49.53216133,75958.28349,10562.90377,635512.3606,60670.33672\\r\\nMartina Fuentes,elit@nequeIn.com,Senegal,1,53.22984863,70896.72853,11794.73914,398746.8458,54075.12064\\r\\nAriana Nash,vel.turpis.Aliquam@consequatpurus.edu,Central African Republic,1,46.69611835,56009.73073,11030.2654,391848.6041,40004.87142\\r\\nGlenna Graham,sodales@maurisSuspendisse.com,Bolivia,0,46.24573524,90556.62686,13872.5667,479586.9387,61593.52058\\r\\nHolmes Lane,ac.orci@accumsaninterdum.co.uk,Laos,1,43.38998458,71716.45662,8870.714301,165866.2,39503.38829\\r\\nEmerald Hamilton,sit.amet.orci@facilisis.edu,Egypt,0,48.92140102,68502.10943,5831.118245,515084.1891,52474.71839\\r\\nGage Marquez,malesuada.vel@dictum.co.uk,Guam,0,43.14281871,46261.42666,16767.2636,759479.4596,42187.6828\\r\\nTravis Burks,dictum@liberolacusvarius.ca,Namibia,1,52.65668022,61858.19077,5189.083564,706977.053,57441.44414\\r\\nOtto Oneill,arcu.Morbi.sit@elementum.ca,Mozambique,1,35.62487152,49483.83262,11811.25253,242292.92,22681.71667\\r\\nBrian Mathews,vulputate.mauris.sagittis@orciluctus.com,Bhutan,1,30.49235339,68289.18229,7357.787011,404457.3099,33640.73697\\r\\nRalph Rich,et@tellus.edu,Tuvalu,0,37.37157248,47399.22827,14562.64194,537744.1324,31540.77868\\r\\nYasir Tyler,pharetra.sed.hendrerit@adipiscinglobortisrisus.edu,Qatar,0,48.47639595,63975.0609,10614.85449,891439.8761,60461.24268\\r\\nDominic Mcintosh,Cras.vehicula@nibhPhasellusnulla.net,Venezuela,0,43.77824898,75460.52362,6280.929547,296972.4085,45738.3343\\r\\nTanner Ward,diam@orciUt.ca,Togo,0,41.7960136,51075.46118,12416.84845,450402.2932,34803.82395\\r\\nWing Gray,urna.nec@tempusscelerisquelorem.org,Nepal,1,49.59716524,42433.54619,7335.524826,386057.421,34642.6024\\r\\nLionel Mcclure,odio.auctor.vitae@placeratorcilacus.edu,Saudi Arabia,1,30.34945876,61922.8971,10366.50326,323453.2022,27586.71854\\r\\nWing Parks,sagittis@magnased.ca,San Marino,1,41.85495363,69946.93924,9010.648633,778537.2095,54973.02495\\r\\nOleg Gordon,Nunc.sollicitudin.commodo@blanditat.co.uk,Saint Lucia,1,46.07172662,73476.42249,9656.806156,386287.0208,49142.51174\\r\\nJamal Stephenson,lorem.lorem@in.edu,Vanuatu,1,55.15697275,75571.20188,12887.54899,416540.299,58840.53964\\r\\nKadeem Larsen,ornare.lectus.ante@lectusNullam.net,United Arab Emirates,0,43.62606334,82573.01132,1696.989764,562605.0655,57306.32866\\r\\nTodd Maldonado,dui.semper.et@aultricies.net,Solomon Islands,0,58.46660793,50649.64492,11211.72016,565932.1861,51941.6756\\r\\nVictor Yang,arcu.Vivamus.sit@egestasSed.com,Andorra,1,42.10214563,53427.46192,7903.103591,238529.6336,30240.60975\\r\\nQuamar Cummings,mauris@convallisconvallisdolor.co.uk,Falkland Islands,1,56.85236475,75247.18061,13258.46631,659279.2011,67120.89878\\r\\nDominic Hughes,cursus.vestibulum.Mauris@pedenonummy.com,Nepal,1,43.03106903,69175.19403,6039.594519,325701.4083,42408.02625\\r\\nLamar Hensley,erat@pedeac.co.uk,Japan,0,34.68196128,84171.16719,12719.64415,244310.5736,41451.71843\\r\\nSolomon Atkinson,Aliquam@laoreet.net,Israel,0,42.91579507,45721.66835,14250.52398,790526.5507,42592.88647\\r\\nDean Snider,tempus@sit.ca,Christmas Island,0,35.04323865,54355.7595,10008.76797,573052.0119,34521.17618\\r\\nVernon Kidd,sapien.imperdiet.ornare@vitaeerat.edu,Macedonia,1,34.49805732,77206.48386,8493.098575,411070.4828,42213.69644\\r\\nDolan Clayton,justo@est.ca,Liechtenstein,0,47.74046488,57005.18595,12416.79083,408147.0405,41913.53713\\r\\nMarvin Deleon,lectus.Nullam@congueelitsed.ca,Mayotte,1,52.86426773,65809.10782,4820.839445,692401.4668,59416.18101\\r\\nMerrill Bailey,natoque.penatibus@nislsem.net,Ecuador,0,47.14546675,65468.1442,7248.54142,588570.8903,51402.61506\\r\\nAdrian Brock,Cras.lorem@nonvestibulumnec.net,Benin,0,54.19945546,60991.82443,7329.22851,586368.9293,54755.42038\\r\\nRigel Craft,diam.eu.dolor@Proin.com,Liechtenstein,0,50.75725473,61809.07451,2620.079459,407733.5229,47143.44008\\r\\nChaim Lewis,luctus@ut.org,Liberia,0,59.46215292,66905.47644,10077.49592,651215.6435,64391.68906\\r\\nKyle Evans,magnis@vitaenibh.org,Saint Kitts and Nevis,0,48.98804889,65131.25015,6206.922109,53366.13861,37252.55194\\r\\nUlysses Craig,sit.amet@orci.ca,Laos,1,51.03125632,83626.30783,8458.749819,167031.5554,52665.36511\\r\\nNolan Nixon,arcu@etultricesposuere.co.uk,Iraq,0,39.84482154,64328.27892,13860.43821,567357.0264,44001.20706\\r\\nOren Rosario,ultrices.Vivamus.rhoncus@lacusMauris.net,Slovenia,1,53.38095524,69255.98753,18361.24915,339207.2774,51551.67997\\r\\nHector Bowers,eget@Morbiquisurna.co.uk,Maldives,1,45.01374936,60575.12604,8088.344365,291360.0291,38243.66481\\r\\nTate Molina,erat@sitamet.ca,Qatar,0,45.40244083,63729.12568,12507.19736,271430.0543,39766.64804\\r\\nJulian Alexander,Integer.id.magna@consequatenimdiam.co.uk,Guinea,0,37.40628431,64315.73671,14871.36126,502946.8819,40077.57289\\r\\nLucian Medina,rutrum@temporbibendum.com,Aruba,0,42.60482241,51419.01644,9026.061543,362564.346,33131.52734\\r\\nTodd Bass,Lorem.ipsum.dolor@et.edu,Lebanon,0,47.69031054,53870.48483,14720.53399,701782.528,48622.66097\\r\\nMannix Snow,elit@euismodenim.net,Monaco,0,48.7314504,56895.23153,9851.578109,580950.3967,47693.23482\\r\\nBenedict Serrano,blandit.viverra@mollisDuis.co.uk,Falkland Islands,1,47.96813163,52534.20778,7583.753853,401955.501,39410.4616\\r\\nYoshio Potter,fringilla.cursus.purus@dolorvitae.ca,Martinique,1,44.50599147,52632.97124,12348.67783,293999.9427,33428.40183\\r\\nStone Koch,facilisis.Suspendisse@Duissit.ca,Guadeloupe,1,43.05947066,42375.21424,6062.60136,510039.1484,32700.27871\\r\\nElliott Horne,sollicitudin.adipiscing.ligula@Sedeu.co.uk,San Marino,0,61.6304836,65617.29175,14392.28833,560593.416,62864.43011\\r\\nTanner Johnson,blandit.at@vulputateullamcorpermagna.org,Kiribati,1,46.02807589,49398.74439,6994.617316,174525.8426,29425.83001\\r\\nGabriel Carson,et@venenatis.co.uk,Equatorial Guinea,0,51.22247207,63869.64928,12860.65824,260269.0963,44418.60955\\r\\nCain Love,est.mollis.non@placerat.com,South Africa,1,43.89487464,60871.18248,4397.947571,262959.2506,36645.5609\\r\\nBarry Larsen,Praesent.eu.dui@bibendumsed.com,Wallis and Futuna,0,57.45859813,68090.5087,6181.970908,316064.0338,53655.53859\\r\\nLawrence Ryan,condimentum@duilectus.co.uk,Tunisia,0,59.77886094,54122.87827,15164.87506,254617.2609,45977.12502\\r\\nAllen Burke,eu.ultrices@In.edu,Pakistan,1,38.60885156,59316.93704,12296.34158,510811.3695,38504.39444\\r\\nNero Morgan,non.sapien@seddictumeleifend.edu,Bahrain,0,61.10319817,38779.18396,12758.89583,581497.8874,47935.9394\\r\\nReuben Holden,pede.nonummy@Vivamusnonlorem.co.uk,Macedonia,1,49.61576865,88292.73205,10799.1381,378357.9385,60222.22672\\r\\nOrson Hyde,gravida.sit@eget.net,Djibouti,1,37.49764004,68688.40199,15796.31838,375889.6381,38930.55234\\r\\nNolan Conner,feugiat@felisNulla.org,Bolivia,1,45.49732494,51906.85022,13686.96935,85520.85055,27810.21814\\r\\nStuart Reed,elementum@SeddictumProin.net,Serbia,1,49.83912893,52373.79446,11347.62967,633383.4925,47604.34591\\r\\nRashad Harper,auctor@arcuimperdiet.ca,Timor-Leste,0,31.74162964,73768.12453,8132.073716,562663.8116,42356.6895\\r\\nDieter Delaney,sit.amet.risus@ipsum.ca,Peru,0,33.77526933,55576.84068,9396.008371,475126.1252,31300.54347\\r\\nHop Farley,in@et.co.uk,Austria,1,45.05203632,59689.81438,14862.84011,449895.3046,42369.64247\\r\\nDarius Herring,imperdiet@sem.edu,\"Palestine, State of\",0,50.21957282,55381.53225,5088.239017,20000,31837.22537\\r\\nBaker Saunders,Aliquam.nisl@hendreritidante.org,Lithuania,0,51.3001589,34154.77654,5316.010491,216355.3406,26499.31418\\r\\nKermit Fuentes,ac@sedpedeCum.org,Cura\\xe7ao,0,52.51683609,54382.7481,6940.056371,191168.4476,38172.83602\\r\\nMarvin Garner,in@sed.org,Djibouti,0,34.16409192,65919.59731,7594.363993,543789.7212,39433.40631\\r\\nSebastian Marks,et.eros@feugiatmetussit.net,Zimbabwe,0,55.98961549,39488.45582,10992.33383,363561.1972,37714.31659\\r\\nHector Price,Aliquam.nisl@semegetmassa.co.uk,Martinique,1,57.28482392,72637.84482,14938.50613,352507.9012,57125.41541\\r\\nHolmes Irwin,Nunc.sed.orci@Namligulaelit.net,Mauritius,1,47.65948559,67247.07698,9851.689538,368344.0637,46453.34819\\r\\nTrevor Faulkner,ut@vitaesodales.net,Uganda,0,40.41469076,71271.84407,13122.45694,411045.8332,43855.06077\\r\\nGannon Nguyen,et.rutrum.eu@congue.net,Kenya,0,50.41432737,71693.44742,14421.48298,517480.0937,55592.70383\\r\\nQuentin Randall,Fusce.aliquet@egetmassa.co.uk,Macao,0,46.54726629,57860.53103,7146.192574,445745.5544,42484.02283\\r\\nBaker Norton,convallis@purus.net,Jersey,1,38.7080482,69142.08412,8707.511532,399124.4489,40879.19107\\r\\nHakeem Mendoza,Maecenas@scelerisquelorem.ca,Kuwait,1,36.195148,52477.66494,12071.41684,97706.89181,20653.21409\\r\\nPeter Maynard,vel.est.tempor@egetvenenatisa.com,Guinea,1,44.10061144,47592.04749,13167.65763,473101.0273,35438.80549\\r\\nDevin Humphrey,sodales.Mauris@ametornare.ca,Greece,0,46.86775698,48123.36983,921.5340234,405550.1689,36112.79346\\r\\nIsaiah Harding,pede.blandit@disparturient.net,Bouvet Island,1,33.20331461,76916.41515,13923.96207,315183.5688,38182.30465\\r\\nGraiden Powell,pellentesque.tellus@faucibusidlibero.com,Thailand,1,42.43201208,65714.46469,12557.08133,362707.0273,41026.02421\\r\\nChancellor Padilla,pharetra@nuncsedlibero.edu,Bahamas,1,47.44707409,40346.06491,11505.89906,255922.473,27889.95197\\r\\nPhilip Barnes,senectus.et.netus@nibhDonecest.net,Latvia,0,40.14234782,71148.20248,7917.65097,416817.4673,43724.4896\\r\\nCameron Cash,auctor@ipsum.org,Hong Kong,1,54.11381978,81757.66856,7500.778414,278181.8354,57430.76903\\r\\nEric Green,arcu.vel.quam@magnaPraesentinterdum.co.uk,French Polynesia,0,38.41372649,64867.14911,13962.95284,498441.5687,41104.07108\\r\\nTanek Koch,blandit@nunc.org,Sierra Leone,0,40.42154558,70051.94033,4701.316175,613706.5421,49050.85378\\r\\nAlan Browning,purus@Sed.ca,\\xc5land Islands,1,45.34128933,62043.16623,4980.668295,357639.0334,41265.52929\\r\\nPhelan Montoya,magna.tellus.faucibus@etmalesuadafames.co.uk,Yemen,0,51.03137709,85186.48921,12413.0319,546630.5284,64545.16339\\r\\nChancellor Patel,metus.eu.erat@suscipitnonummy.com,Heard Island and Mcdonald Islands,1,38.40326499,47127.41632,10221.15388,427011.4954,29052.09521\\r\\nPalmer Cohen,non.leo@mollis.net,\"Virgin Islands, British\",1,33.97602872,61177.08698,9837.222432,340663.3261,30719.8156\\r\\nAhmed Wright,consectetuer@auctorodio.com,Singapore,1,50.24618129,57770.36488,8628.434025,211765.2494,38763.11306\\r\\nBurton Carroll,rhoncus.id.mollis@Maurisvel.org,Algeria,0,42.144445,60432.40367,11417.46257,415005.3584,39331.20127\\r\\nNero Miranda,semper@vulputateposuere.net,Bhutan,1,32.92895606,58999.88858,6904.420412,478422.7973,32608.45468\\r\\nAli Strong,dis.parturient.montes@eratvel.com,Wallis and Futuna,1,56.07496279,62645.95516,11431.22966,613242.1668,58045.56257\\r\\nNasim Ryan,est.congue.a@convalliserat.net,Cocos (Keeling) Islands,0,56.68908614,68782.15718,9810.75269,350157.8394,54387.27727\\r\\nAugust Duncan,tempor.bibendum@Nuncpulvinar.co.uk,Saint Martin,1,37.36322599,67545.96382,7171.466112,322905.4592,36638.20688\\r\\nKieran Gilliam,ac.nulla@consectetueripsumnunc.co.uk,Bolivia,0,50.75886005,42415.48867,5205.008323,520997.2385,39522.13129\\r\\nStone Hunt,convallis.erat@eratvel.org,Northern Mariana Islands,0,62.667962,44617.98314,9683.735879,251702.1158,42978.34626\\r\\nMalachi Henson,adipiscing.elit@Nunc.com,Croatia,1,52.68904044,72226.5603,5817.153854,623033.482,60865.76396\\r\\nSeth Massey,in.aliquet@fermentumvel.com,Jordan,1,51.27542204,48958.90535,2418.86434,615672.4681,46380.44732\\r\\nUlric Robles,fringilla@ornare.edu,Malta,1,48.24884664,86067.83527,9181.06743,335652.6234,56579.90338\\r\\nGannon Marquez,Aliquam@porttitor.net,Mauritania,1,41.17366372,65554.4018,12026.57975,462613.8587,42774.35579\\r\\nMarshall Armstrong,ipsum.cursus.vestibulum@a.com,Guyana,0,38.55101952,69248.4953,6445.784981,298246.0609,37879.65385\\r\\nChristian Huffman,dignissim.Maecenas@tinciduntnuncac.co.uk,Laos,0,45.44389242,59331.23555,10027.53449,543313.3454,45208.42539\\r\\nGil Sanders,eu.ultrices@cursuset.net,Haiti,0,70,52323.2448,12438.85648,346555.1716,56229.4127\\r\\nOtto Thomas,orci.tincidunt.adipiscing@erat.edu,Cocos (Keeling) Islands,0,51.22046152,63552.85175,9347.50353,474763.4696,50455.11935\\r\\nMoses Blackburn,et.malesuada.fames@musProin.edu,Madagascar,0,50.96113207,75116.10613,5969.666602,232607.3907,49721.31082\\r\\nDrake Chen,enim.commodo@consequatenimdiam.com,Faroe Islands,0,41.94840202,38284.02013,15467.78745,587010.5521,31696.99679\\r\\nChristian Hernandez,dolor@vehiculaPellentesque.co.uk,Kyrgyzstan,1,49.93151869,55293.50777,9465.090098,629764.2743,49220.0218\\r\\nJelani F. Pace,Morbi@atarcuVestibulum.co.uk,Saint Barth\\xe9lemy,1,39.84583613,63210.76235,3657.863218,664431.3966,46188.83514\\r\\nTiger I. Melton,rhoncus@nisl.net,Israel,1,44.31436254,54918.38749,8920.385015,347017.8331,36086.93161\\r\\nQuail D. Horne,sit.amet@FuscemollisDuis.org,Uganda,0,52.13426592,57262.79581,7793.073201,322150.3542,43264.04965\\r\\nHammett A. Manning,sapien.cursus.in@netus.edu,Samoa,1,40.60178125,72299.9501,11544.93385,275389.0701,40660.38317\\r\\nLamar V. Guthrie,vel@arcuVestibulumante.com,Heard Island and Mcdonald Islands,0,57.00689841,50241.48985,14817.70896,607395.0183,51683.60859\\r\\nAbra D. Golden,odio@Duis.com,Poland,0,53.76273185,65834.56889,15353.25774,152012.353,44525.02085\\r\\nVaughan L. Mathis,eu@iaculis.org,Bhutan,1,50.49435621,60382.17885,11302.88277,490444.4111,48518.90163\\r\\nAlfreda V. Harrell,molestie@mi.net,Algeria,1,37.26933248,68691.17086,16305.78907,619707.4203,45805.30588\\r\\nNora X. Decker,non.enim@diam.org,Congo (Brazzaville),0,51.84166929,65446.65687,8491.586154,571564.7901,54850.38742\\r\\nJeanette Q. Leach,vitae@nisl.net,Liechtenstein,0,43.04031367,42978.34284,8884.11069,491193.3773,32478.44758\\r\\nKeiko O. Whitaker,est@porttitortellus.com,Timor-Leste,0,52.39396613,58143.06285,9686.119304,261152.8211,42209.28948\\r\\nHector F. Leblanc,Curabitur@maurisaliquameu.net,Guernsey,0,64.05419444,61666.2852,11672.72382,299854.2186,55125.93237\\r\\nEmerald R. Cohen,in.consequat.enim@consectetuer.edu,Sao Tome and Principe,0,50.98384935,64854.33966,3247.887523,371240.2413,47984.42062\\r\\nCathleen E. Ortega,lectus@aliquamenim.org,Ghana,0,55.04901266,45757.15568,11207.01556,465709.8937,43405.89086\\r\\nVelma K. Moses,augue.scelerisque@luctuslobortis.com,Guam,1,47.44390371,73096.50927,10743.793,196421.7402,44577.44829\\r\\nLael W. Sheppard,eu.metus@sodalespurusin.net,Armenia,1,36.3286175,67249.05932,12998.47232,396793.4734,37744.54285\\r\\nIndigo P. Dejesus,quam.Pellentesque.habitant@felis.com,Cocos (Keeling) Islands,0,38.83483235,77165.81297,8737.20319,478853.3217,47805.25605\\r\\nQuinlan S. Cantu,pede.Praesent.eu@Aliquam.net,French Polynesia,1,45.42714869,72316.18286,8728.916803,279393.491,44846.68557\\r\\nMariam I. Montgomery,vel.mauris@accumsanneque.co.uk,Grenada,1,46.56694116,68431.27055,14088.90642,383693.2041,46643.26581\\r\\nPamela M. Cantu,posuere.enim.nisl@lectusNullam.ca,China,0,47.05691571,62311.11641,9832.05731,830430.3692,56563.98675\\r\\nHanna C. Martinez,Maecenas.mi.felis@amet.co.uk,Saint Kitts and Nevis,0,60.17319938,53229.14547,10756.60888,112127.2567,41673.44617\\r\\nLynn S. Avery,dui.Suspendisse.ac@Sedegetlacus.net,Venezuela,1,59.39902491,77662.1109,13444.89631,331460.4727,61118.46947\\r\\nLaurel H. Snow,dui.Suspendisse.ac@tacitisociosqu.org,Andorra,1,36.40803286,69494.69783,20000,335809.6171,37303.56701\\r\\nKeegan Q. Ramirez,aliquet@volutpatNulla.edu,Yemen,0,47.4509492,61063.35631,12066.26571,509543.0859,46892.26617\\r\\nShad K. Hancock,sit.amet@Proin.org,United States,1,37.8936486,79368.91741,13501.92659,761935.5177,56457.74038\\r\\nHarding E. York,quis.lectus.Nullam@egestas.org,French Polynesia,1,41.56343675,61693.44352,10835.25736,620522.3842,45509.69732\\r\\nIndira A. Aguilar,erat.Sed.nunc@aneque.ca,\"Virgin Islands, United States\",1,32.78689927,47211.66812,4295.225339,539365.9366,27625.44144\\r\\nBell K. Romero,non.sapien.molestie@rhoncus.edu,Saint Pierre and Miquelon,1,39.01360284,69897.75291,9624.908869,565814.725,46389.50237\\r\\nCassady L. Foreman,magna.Suspendisse@tincidunt.edu,Marshall Islands,0,39.43529081,63675.93263,9631.974905,74257.82785,29002.05665\\r\\nSamson N. Wagner,magna@sagittisaugueeu.org,Saint Barth\\xe9lemy,1,54.73045672,72302.03223,10813.75655,234159.0793,51355.7106\\r\\nWade O. Diaz,vel.sapien.imperdiet@dolorsit.co.uk,Greece,0,45.09515473,63687.4988,13421.36821,358615.9327,42011.19965\\r\\nLen B. Finley,dis@dis.edu,Greenland,1,50.69496793,63678.15468,5011.615145,563498.6636,52654.40455\\r\\nEmerald U. Hanson,dui.quis.accumsan@pedeCrasvulputate.co.uk,United Arab Emirates,0,49.46168599,77435.46545,6922.152838,48620.32123,44432.71747\\r\\nCody G. Gill,sagittis.Nullam@acrisus.com,Puerto Rico,1,45.85016782,62721.40514,16127.56619,494985.5363,46054.60253\\r\\nKyle R. Kaufman,Morbi.vehicula@mattis.org,Israel,1,53.14119207,70842.83518,9536.899689,545946.9996,58235.41454\\r\\nDrake D. Gray,orci.consectetuer@porttitor.com,Mauritania,1,38.93027639,55285.98625,17462.07506,734443.6969,42990.29255\\r\\nHonorato M. Butler,Cum.sociis.natoque@purus.ca,Sao Tome and Principe,1,42.62791487,72002.0552,14709.65824,568947.7487,50702.18103\\r\\nTate C. Foster,dignissim.magna@Maurisvel.edu,Viet Nam,1,69.56930586,41434.51258,6810.555606,252220.2937,47009.57741\\r\\nZelenia L. Lowe,Nunc.mauris.elit@Curabiturvel.edu,Bermuda,0,50.71732637,60404.38394,4198.839128,513974.6812,49399.97041\\r\\nCallum U. Sweet,sem.ut@odio.edu,Equatorial Guinea,0,51.77261249,65239.06468,7437.211028,168703.3385,42997.16761\\r\\nZane I. Boone,blandit@Cum.edu,Bahrain,1,45.13851753,62939.12851,632.0528524,455589.7973,44434.98419\\r\\nTimothy J. Terrell,orci@lobortis.com,Laos,0,47.68088058,60608.40313,8233.280719,492113.0067,46325.50959\\r\\nZahir A. Estes,eleifend.vitae@Pellentesquehabitantmorbi.ca,Norfolk Island,1,48.04509497,56118.39601,9242.775995,586717.4715,46846.7305\\r\\nMichelle W. Ryan,ante.lectus@duiCum.net,Italy,0,47.79216388,86706.33333,9653.26498,333543.693,56499.10202\\r\\nSerena B. Moody,vitae.risus.Duis@hymenaeos.edu,French Guiana,1,57.27478648,41236.36497,9399.342975,466988.2602,42773.75905\\r\\nMark V. Vaughn,Morbi.vehicula@ac.net,Israel,1,46.27084405,77146.27598,7903.33495,418764.5061,52313.98392\\r\\nAnjolie A. Galloway,consequat.nec.mollis@nec.ca,Marshall Islands,0,44.35361663,56437.30404,10461.98276,249182.7848,34139.6373\\r\\nKylee O. Warner,cursus.in@neque.co.uk,China,1,65.22488117,70703.85013,5025.365518,284991.7415,60763.24731\\r\\nMacKenzie O. Fowler,Aliquam.nec.enim@nec.co.uk,Saint Barth\\xe9lemy,0,57.24274098,69810.46265,4684.556433,720423.8157,66158.69494\\r\\nLana S. Pace,augue@orci.com,Cape Verde,1,46.60008704,54279.39597,5699.184814,124979.0501,31215.6421\\r\\nWilma L. Stevenson,non.vestibulum@consectetuer.ca,Sao Tome and Principe,0,36.11724689,70334.42787,9823.218967,632600.4718,46135.27233\\r\\nSandra J. Huber,enim@famesac.org,Benin,0,56.77294754,59168.00751,10474.44187,623487.5952,56973.18105\\r\\nOctavius C. Spencer,Curabitur.consequat@miDuisrisus.com,Bangladesh,0,32.87492543,61889.61618,12024.48457,133226.0617,24184.07443\\r\\nBrendan G. Kelley,vel@lorem.org,Venezuela,1,43.25105758,66013.95174,7039.540023,610942.1408,49079.61942\\r\\nShaeleigh M. Mckenzie,diam.lorem.auctor@estmollisnon.net,Christmas Island,1,46.20524085,55434.04046,18693.14652,316906.6441,37093.92033\\r\\nRooney R. Padilla,eu.turpis@accumsansed.co.uk,Philippines,0,45.26036406,68499.69447,15436.79968,308445.8598,43401.56612\\r\\nDamon K. Boone,nec@ad.net,French Southern Territories,1,42.80386517,54749.88645,7631.687821,152883.3519,29092.1311\\r\\nTaylor A. Patel,erat.vitae.risus@temporarcu.edu,Jamaica,1,37.94194499,74590.25495,5614.004976,573441.9724,48349.16457\\r\\nLillith H. Larsen,dignissim.lacus.Aliquam@maurissapien.com,Thailand,1,39.69651573,67772.66646,6887.248301,134188.4492,33261.00057\\r\\nTobias L. Sullivan,tempus.non@nasceturridiculus.ca,Poland,1,42.69544169,62563.57825,6130.305181,426488.7459,41327.16554\\r\\nQuincy Q. Ayers,nisl.Nulla@Donecelementumlorem.net,Belarus,0,41.87168381,70361.01504,12024.72511,575500.7687,49336.11628\\r\\nUlysses X. Burch,Sed.nunc.est@arcuMorbi.edu,Kyrgyzstan,0,51.29771627,74810.89471,13658.34201,286849.7875,51405.55229\\r\\nJorden I. Whitley,turpis@orci.com,Italy,0,37.72282353,49346.405,5827.820346,479685.9824,31249.98803\\r\\nHeather G. Goodwin,semper.egestas@maurissapien.co.uk,Uganda,1,41.22493528,73426.08521,14822.79645,336867.7147,43598.96993\\r\\nYardley W. Jacobson,enim.non.nisi@Ut.net,Saint Pierre and Miquelon,1,54.49187591,47684.46306,10128.76114,613372.8917,48300.02057\\r\\nGray F. Walker,lobortis.Class.aptent@iaculis.com,Turkmenistan,0,45.21937869,72939.83195,7787.204492,589669.6573,54013.47595\\r\\nPiper S. Houston,risus@enimconsequat.org,Pakistan,0,40.76074066,72277.82609,13580.87747,202710.1294,38674.66038\\r\\nChester X. Carrillo,tempor.erat.neque@ac.com,French Polynesia,1,40.36205839,53921.33351,9046.18109,515305.4841,37076.82508\\r\\nNathaniel P. Stephens,Cras.dictum.ultricies@conubia.ca,Guatemala,0,31.8336316,65312.96755,11398.82486,572037.8859,37947.85125\\r\\nJennifer C. Williamson,rutrum@fermentumconvallisligula.ca,Paraguay,0,54.12700263,55619.34152,11212.43791,229070.5491,41320.07256\\r\\nRae C. Hodge,lacus@massaSuspendisse.ca,Kiribati,0,55.34658335,70914.59993,9644.41026,779143.6005,66888.93694\\r\\nUrielle M. Contreras,elit.Aliquam.auctor@dolor.org,Bolivia,0,35.37515645,33422.99683,8570.611562,211168.6293,12536.93842\\r\\nMechelle W. Stanton,Pellentesque.habitant@auctorquistristique.org,Saint Barth\\xe9lemy,0,46.30647788,53382.42693,5055.43571,438491.876,39549.13039\\r\\nLeila F. Hubbard,ultrices.posuere.cubilia@magnisdis.com,Samoa,1,45.19479436,74173.39239,11315.59626,521404.2386,52709.08196\\r\\nTanisha H. Foster,sem.vitae@malesuadafringillaest.net,Andorra,0,49.89768983,53587.12801,8501.49728,811594.0392,53502.97742\\r\\nHammett F. Marsh,tempus.scelerisque@maurisaliquam.ca,Iraq,1,54.22262982,58011.6339,9822.426192,552454.0263,52116.90791\\r\\nCalvin A. Lancaster,ante.bibendum.ullamcorper@fringilla.net,South Africa,1,28.74024358,69171.95281,6354.833826,613104.784,38705.65839\\r\\nRachel H. Ballard,ipsum.leo.elementum@amet.org,Saint Vincent and The Grenadines,1,55.54961038,66779.91374,14300.12614,202576.6196,48025.02542\\r\\nSolomon P. Randolph,orci.luctus.et@lacus.com,Argentina,0,54.16455309,79173.0767,6913.05683,397700.1404,59483.91183\\r\\nKasimir Q. Cherry,risus@in.net,Andorra,0,33.19434796,63065.12164,8907.661779,505897.3041,35911.64559\\r\\nDominic I. Faulkner,pharetra.Nam@sociisnatoque.org,Tonga,0,47.79777532,65530.36401,8774.069514,210573.7042,41034.28343\\r\\nPascale I. Key,urna.suscipit@enim.ca,Equatorial Guinea,0,48.93654638,63732.3931,12848.20061,581620.4824,51730.17434\\r\\nNola L. Sweeney,eu@necmaurisblandit.co.uk,Solomon Islands,0,54.61385876,62689.53964,8732.143355,481513.5074,53021.86074\\r\\nClementine X. Powell,quis.pede@Aliquamfringilla.ca,Papua New Guinea,0,41.86361457,51539.93045,6932.950306,371355.6935,32828.03477\\r\\nQuinlan U. Sears,magna@velarcueu.ca,Canada,1,40.8753749,59060.08664,5841.612044,136346.3069,29417.64694\\r\\nOdette Q. Sherman,Mauris.molestie@Intincidunt.co.uk,Sierra Leone,1,53.05501309,62713.78149,11498.03993,679435.1745,57461.51158\\r\\nKirestin F. Yang,eleifend.egestas.Sed@tempus.net,South Africa,1,52.77569606,44747.66132,4975.144559,793986.6155,50441.62427\\r\\nColleen S. Mcguire,tincidunt@Proinsedturpis.edu,Grenada,0,43.50671123,65529.70333,3932.838165,353929.5495,41575.34739\\r\\nDennis N. Thompson,vitae.erat@urnaNullamlobortis.ca,Guatemala,0,41.80848339,62426.52379,6619.929677,630411.2698,46412.47781\\r\\nLester J. Burch,Nunc.mauris@commodo.com,Turkmenistan,0,40.60183491,73498.30715,3066.939924,491904.1899,47610.11718\\r\\nMadeson R. Salinas,Cum.sociis.natoque@acnullaIn.edu,\"Bonaire, Sint Eustatius and Saba\",0,48.25655639,86565.15641,13701.79986,819002.1748,70878.29664\\r\\nAbigail X. Lindsey,dui@nondui.ca,Croatia,0,63.41453115,46549.16329,640.045378,626163.832,55543.38497\\r\\nRachel E. Suarez,non.vestibulum.nec@euturpis.co.uk,Guam,1,58.9815941,70111.5398,7949.463649,239217.6732,53848.7555\\r\\nDerek X. Richards,tincidunt@porttitor.com,Croatia,1,45.27895873,66747.66857,9691.23462,221290.9818,39904.81613\\r\\nEvangeline G. Cooper,Integer.id.magna@Sedidrisus.org,Saint Barth\\xe9lemy,1,47.45421163,72025.6768,6988.652757,222341.0342,44736.41097\\r\\nKieran G. Justice,in@Sed.co.uk,Samoa,1,49.4022674,70737.29383,13851.11162,266765.477,46937.17422\\r\\nZenia H. Patel,dis@tortor.com,Puerto Rico,1,39.98349575,57455.7609,12186.02793,159727.8753,28440.81268\\r\\nMichelle R. Burke,dui@justo.ca,Mauritania,1,41.37223373,60657.59355,3331.304747,392177.789,38148.00163\\r\\nFlorence U. Hunter,diam@tellus.org,Ethiopia,0,46.75803824,50694.42707,10881.90102,587858.6295,42747.53925\\r\\nJelani A. Wall,aliquet@Duisa.co.uk,Brazil,0,27.44024624,55369.72784,10888.93494,606851.1696,29670.83337\\r\\n\"England, Abel D.\",enim.commodo@parturientmontesnascetur.org,\\xc5land Islands,1,46.34274109,82425.64679,7525.252104,684273.5913,63038.20422\\r\\n\"Oconnor, Linus Q.\",Donec.elementum@Fuscemilorem.co.uk,Mayotte,0,50.50648739,82094.10712,1065.607589,577272.6805,63248.76188\\r\\n\"Herman, Griffith P.\",ligula.Nullam.enim@nibhlacinia.edu,Liechtenstein,0,43.09147264,74090.51299,10877.69223,225670.1288,42321.56548\\r\\n\"Knapp, Quamar P.\",Maecenas.libero.est@miacmattis.com,El Salvador,0,31.97176907,73935.74201,8253.583457,625484.0917,44463.30502\\r\\n\"Chambers, Avram C.\",Nunc.pulvinar.arcu@ultricesaauctor.ca,Isle of Man,1,62.86886081,75719.22986,10515.28135,474485.6659,67092.23276\\r\\n\"Cervantes, Rylee Q.\",luctus.lobortis.Class@sitametdapibus.co.uk,Gambia,1,35.39291819,47054.14246,7234.672092,275762.4836,22091.11839\\r\\n\"Ashley, Macon Z.\",metus.Vivamus.euismod@arcuVivamus.co.uk,Bosnia and Herzegovina,1,49.62207396,42003.01617,6052.844775,579220.0393,40022.17406\\r\\n\"Jimenez, Joel G.\",faucibus.lectus.a@ut.net,Iraq,0,50.69628655,74418.55717,8632.699007,472761.6208,56071.61377\\r\\n\"Bond, Caryn Y.\",libero.Proin@acnulla.net,Guinea-Bissau,1,54.40906192,52786.1971,9246.813159,556014.9704,49442.12107\\r\\n\"Gross, Cedric D.\",aliquam.adipiscing@maurissapien.edu,Bhutan,0,37.07521505,78804.99824,12710.00309,315058.7167,42497.72862\\r\\n\"Dyer, Aline L.\",convallis@scelerisque.net,Maldives,0,44.2639884,66932.47176,11033.16277,149761.1281,37084.77621\\r\\n\"Rivers, Sonya A.\",vel.lectus@Praesent.net,India,1,57.10507937,56066.07685,5235.7599,497876.2478,51866.48719\\r\\n\"Frazier, Kai O.\",Cras@quamelementum.com,Liechtenstein,0,47.48853379,48591.57177,14309.21115,364858.7148,35716.31133\\r\\n\"Bond, Nyssa S.\",fringilla.euismod.enim@aauctornon.net,Bolivia,0,52.00403731,38213.88844,11492.74174,579059.3132,39892.93343\\r\\n\"Rush, Jarrod T.\",vestibulum.nec.euismod@netusetmalesuada.ca,Mongolia,1,52.47484301,56444.76848,11932.73881,69821.6376,35781.16156\\r\\n\"Stephens, Tanner E.\",egestas@turpisnecmauris.com,Mozambique,0,47.78541236,67080.6142,7880.423663,244188.0008,42866.21274\\r\\n\"Cameron, Kimberley P.\",nec.tellus@lacinia.co.uk,Namibia,1,55.01756589,83333.81054,9874.075327,1000000,80000\\r\\n\"Mcdowell, Victoria J.\",risus.Duis@ornareFuscemollis.net,Trinidad and Tobago,0,46.52064185,73502.12458,11132.39299,765711.6025,60526.97788\\r\\n\"Dalton, Grant D.\",velit@doloregestas.net,Moldova,1,44.74440761,88816.02695,9317.22195,493592.1764,59758.73247\\r\\n\"Gregory, Reuben Z.\",fermentum@blanditviverra.ca,Martinique,1,39.6048097,70381.37499,6718.857016,305253.2658,39606.24598\\r\\n\"Schultz, Lee I.\",velit.eget.laoreet@quis.ca,Algeria,1,47.42452905,67647.74764,8767.783547,787984.2882,58641.71051\\r\\n\"Wise, Mechelle E.\",est.mollis@dui.ca,Mauritius,0,45.01562039,79781.90126,11148.10325,427287.6277,52983.89411\\r\\n\"Mcclure, Avye L.\",dictum@lorem.org,Israel,1,49.10443956,64665.39122,7404.080751,521815.7353,50666.88173\\r\\n\"Livingston, Blaze Y.\",montes.nascetur@liberoet.co.uk,Serbia,0,60.18011891,58837.97088,12788.81573,622324.7499,59625.02618\\r\\n\"Fuentes, Dora E.\",nonummy@ornareelitelit.org,Sierra Leone,0,33.81125185,49607.23466,9344.32377,290711.867,22630.25982\\r\\n\"Thompson, Alvin R.\",interdum.ligula@Phasellus.edu,Iraq,0,36.3750977,67032.16445,7666.5303,516738.1724,41137.89459\\r\\n\"Armstrong, Hedda N.\",magnis.dis@aliquam.org,Equatorial Guinea,0,51.3613807,65245.57379,11554.2723,542777.4892,53496.48183\\r\\n\"Casey, Sylvia E.\",Integer.vitae.nibh@a.org,Tanzania,0,42.2652013,56174.3433,10394.57246,398011.5804,36543.93642\\r\\n\"Shaw, Rooney Q.\",Curabitur.vel@Nullam.net,Mayotte,0,48.09742994,47227.01542,11312.51035,642335.1021,43503.97349\\r\\n\"Sexton, Shaeleigh H.\",Cras.convallis.convallis@Fuscealiquam.net,Niue,1,35.37227549,40300.49467,8828.164449,719846.9824,31146.71078\\r\\n\"Langley, Skyler J.\",mi.eleifend.egestas@cursuset.net,Austria,1,44.23255578,45504.74866,9245.466786,374777.6929,31526.04931\\r\\n\"Caldwell, Yolanda F.\",ac.facilisis.facilisis@necmalesuada.com,Czech Republic,0,48.07331843,50017.38154,7514.393035,160487.0006,31083.70271\\r\\n\"Olson, Riley O.\",ornare.sagittis@hendrerit.ca,Bouvet Island,1,47.47086936,66226.72902,8511.814921,356213.0776,45366.35963\\r\\n\"Irwin, Dillon J.\",arcu@dictummiac.edu,Tokelau,0,31.24483833,41361.95045,10755.50842,615720.0425,25252.93221\\r\\n\"Terry, Mollie K.\",quam.dignissim.pharetra@aauctornon.ca,Greenland,1,45.34659851,56687.41273,9050.284083,414034.6096,39888.59789\\r\\n\"Hudson, Maxwell F.\",metus.eu.erat@non.org,Guernsey,0,48.70123214,68114.60169,11633.95265,521061.1115,52240.72866\\r\\n\"Levy, Irma P.\",lacus.varius@sitamet.ca,Saint Kitts and Nevis,0,61.31742411,51086.88482,12254.53943,59630.07789,39911.6116\\r\\n\"Brady, Oscar Y.\",erat@urnaUttincidunt.com,Rwanda,0,50.67226399,71921.45038,6354.372629,169714.2655,45857.75365\\r\\n\"Dudley, Ryder M.\",sed@sedtortor.co.uk,Falkland Islands,1,35.48520024,56807.01728,8851.564939,385250.7163,30826.10903\\r\\n\"Morales, Halla M.\",elit.elit.fermentum@erosturpisnon.org,United States Minor Outlying Islands,0,52.51971144,43019.8475,8527.034281,454791.7251,39422.79389\\r\\n\"Holloway, Brennan Q.\",fringilla.purus.mauris@risusatfringilla.ca,Morocco,1,42.12055603,63875.20999,11397.68601,188327.5831,34678.83226\\r\\n\"Powers, Naomi B.\",Cras.eu@vitaevelitegestas.net,Samoa,1,39.12031813,41587.39238,5397.031602,322891.7787,23517.91983\\r\\n\"Armstrong, Naomi D.\",nunc.sed.pede@Quisqueporttitor.net,Colombia,1,38.10594756,49661.96712,4679.441732,375654.1472,28733.68779\\r\\n\"Flores, Caldwell U.\",ut@Etiamvestibulum.ca,Western Sahara,0,40.75219483,92471.17612,5404.397644,515717.7476,59096.26978\\r\\n\"Russo, Fleur N.\",erat@at.edu,Kuwait,0,43.70539661,70136.82862,7765.975483,555993.1081,50188.86612\\r\\n\"Reese, Sylvia H.\",Proin.nisl.sem@Maecenasmalesuada.co.uk,Turks and Caicos Islands,1,43.07820399,52664.71719,14435.74305,411932.8191,35659.12237\\r\\n\"Burke, Simon H.\",lacinia@Nullam.com,Morocco,1,38.63314682,55618.06942,7557.657205,854283.5574,46398.35204\\r\\n\"Mayer, Paki D.\",Nunc.lectus.pede@egestasrhoncus.com,Somalia,0,33.24696771,54912.44043,8203.56263,537572.1338,32291.18978\\r\\n\"Bush, Jessica C.\",dolor.sit.amet@iaculisneceleifend.ca,Micronesia,0,46.91189053,56692.78044,7946.435929,685541.6501,49079.29461\\r\\n\"West, April J.\",ante@nisi.org,Marshall Islands,0,45.30594136,63561.04525,3730.11972,608019.6308,49348.88394\\r\\n\"Levy, Wesley S.\",facilisis.vitae.orci@sociosquad.co.uk,Dominican Republic,1,50.72631901,62788.93529,13224.45167,192514.6431,41427.59797\\r\\n\"Nieves, Bertha O.\",dolor@velitegestas.org,American Samoa,0,42.1200795,38453.86033,15283.41752,320834.0102,24221.99937\\r\\n\"Patrick, Merritt L.\",ut@nonummyut.net,United Kingdom (Great Britain),0,55.25607797,59486.27073,6515.336778,228434.0508,44424.07681\\r\\n\"Mcdaniel, Marcia Z.\",non.nisi.Aenean@etmagnis.co.uk,Armenia,1,62.46308509,68149.63056,9560.448204,401916.0981,60390.06616\\r\\n\"Ortiz, Drew P.\",tincidunt@vel.edu,Seychelles,0,51.56054437,49393.46784,11521.6189,475263.2759,42793.9932\\r\\n\"Oneill, Tiger A.\",orci.Phasellus@ut.org,Maldives,0,51.10053283,72262.20245,12124.82386,187821.0958,46935.72774\\r\\n\"Sims, Tashya J.\",aliquam@anteNuncmauris.ca,Latvia,1,62.62575416,64494.39535,8765.624109,408679.8596,58667.06865\\r\\n\"Lawrence, Hope Z.\",metus.vitae@Morbisitamet.ca,Switzerland,1,45.56856449,54362.70307,15647.35449,388898.069,38042.80065\\r\\n\"Jenkins, Hasad P.\",adipiscing.elit.Aliquam@Utsagittislobortis.co.uk,Saint Martin,1,46.55637266,55657.65681,9625.399586,377424.6157,39270.57909\\r\\n\"Rodriguez, Basia D.\",Vestibulum@lobortis.org,Senegal,0,57.70495365,73512.41269,11054.27478,236420.9695,54606.18769\\r\\n\"Blair, Abra U.\",montes@Loremipsum.edu,Belize,1,36.71815503,70621.52393,9384.067625,366327.7432,39083.94268\\r\\n\"Rosario, Elijah N.\",In@non.com,Grenada,1,51.42349784,70275.68706,10359.17579,253181.9789,47984.12043\\r\\n\"Beach, Victor S.\",consequat.auctor@lacuspede.co.uk,Chile,0,36.12691774,74420.10254,10274.13558,551344.3365,46082.80993\\r\\n\"Ruiz, Rafael L.\",sed.pede@volutpatNulladignissim.net,Uruguay,1,31.61348869,54395.05356,10693.88704,549212.4268,30964.07804\\r\\n\"Macdonald, Rahim B.\",augue.eu@nisi.edu,South Georgia and The South Sandwich Islands,1,31.89622257,60384.34541,11518.29175,589180.4485,35726.95299\\r\\n\"Valdez, Joy U.\",lobortis.quam@velarcueu.org,Guinea,1,43.05089188,66813.664,15458.68867,600685.1915,49065.1634\\r\\n\"Watson, Moana M.\",ipsum.Suspendisse@diamDuismi.org,Afghanistan,0,51.08481106,84120.95497,9596.513091,27888.74525,48955.85816\\r\\n\"Cote, Evangeline F.\",lorem.tristique.aliquet@estNunclaoreet.net,Belgium,1,43.12954854,54236.62092,7275.314728,432447.5324,37183.10293\\r\\n\"Delgado, Jasper U.\",lacinia@posuere.ca,Isle of Man,1,57.80193013,64426.59613,9514.645028,137601.844,46710.52519\\r\\n\"Hardy, Hilary R.\",egestas.Fusce@orciDonecnibh.com,Micronesia,1,48.83752201,71150.19894,9848.997857,480468.247,52889.56257\\r\\n\"Stafford, Berk Y.\",Quisque@ultriciessem.net,Dominican Republic,0,42.99229711,60325.20676,10128.1151,62149.94034,29754.66271\\r\\n\"Daugherty, Veda M.\",venenatis.vel.faucibus@iaculisnec.net,Guinea,1,48.30867264,91083.73918,13148.85597,387538.2487,60960.83428\\r\\n\"Harmon, David N.\",aliquet.diam.Sed@posuere.org,Cura\\xe7ao,0,39.71130983,60380.22868,2799.719601,508962.4874,39975.43302\\r\\n\"Houston, Grant O.\",ut.aliquam@egetlacusMauris.ca,Bermuda,1,34.72822141,72948.11812,12664.32052,360457.0496,38545.80328\\r\\n\"Collier, Xerxes Q.\",eu@magnaLorem.org,Lithuania,0,43.00071798,74834.57117,9366.027561,712233.8241,56764.44728\\r\\n\"Lewis, Jackson U.\",pellentesque.a.facilisis@nonlacinia.co.uk,Afghanistan,1,57.13457591,67752.38329,13851.92122,657178.4135,63079.84329\\r\\n\"Smith, Nola H.\",orci.lacus.vestibulum@gravidasit.co.uk,Saint Vincent and The Grenadines,1,47.21795133,59205.89035,2689.317953,856287.1522,55700.83389\\r\\n\"Jensen, Ebony Y.\",ac@sagittisNullam.net,Portugal,0,31.75957954,64874.03368,8511.835275,528087.5277,36367.18452\\r\\n\"Kim, Claudia W.\",sit.amet@dignissimmagnaa.edu,Macao,0,44.34525343,63305.84963,16146.77016,749016.565,52477.83479\\r\\n\"Livingston, Lucas K.\",porttitor.scelerisque@Aliquam.ca,Uruguay,0,50.27457289,74176.2079,11894.4244,290608.3977,50296.67496\\r\\n\"Bradford, Daquan F.\",Nunc@euarcuMorbi.ca,United States,1,43.57649526,47230.92278,4421.153379,558001.0241,37259.84386\\r\\n\"Park, Quincy A.\",amet.consectetuer@orciinconsequat.ca,Antarctica,0,56.72544675,65980.95617,7009.186038,173272.8954,47715.96049\\r\\n\"Dillon, Lynn W.\",ornare.egestas.ligula@urnaVivamusmolestie.com,Western Sahara,0,35.07555289,51428.66337,9221.265417,457116.1945,29540.87013\\r\\n\"Blackburn, Joel Y.\",semper@tristique.co.uk,\"Korea, South\",1,52.90793462,75381.07571,7925.059589,545125.9592,60567.18837\\r\\n\"Sanders, Selma F.\",velit.Pellentesque@Nullam.org,Syria,1,41.02339176,54742.3946,10342.60917,447393.4883,36125.48846\\r\\n\"Solis, Melissa T.\",placerat.eget@placeratorcilacus.com,Saint Vincent and The Grenadines,0,44.00603343,76245.2434,6139.387823,674190.6949,57303.87131\\r\\n\"Holmes, Ross Y.\",velit@Pellentesquetincidunttempus.net,Bulgaria,1,62.62213572,60409.75787,9611.317626,255285.4063,51922.07691\\r\\n\"Sutton, Michelle D.\",enim.Mauris@Namac.net,Madagascar,0,49.7733395,57600.59673,10340.30041,128387.9293,35848.82935\\r\\n\"Munoz, Kennedy K.\",dolor@nislelementumpurus.edu,Bouvet Island,1,42.06422454,71371.92544,7094.827,321431.279,42704.3221\\r\\n\"Little, Hayley R.\",nunc.est@purusmaurisa.co.uk,Cayman Islands,1,40.961674,79444.01301,11620.1079,627086.6563,55174.98946\\r\\n\"Church, Lareina E.\",lectus.rutrum.urna@nisinibh.co.uk,Honduras,0,40.2012564,47569.44212,7840.293189,281690.8431,26599.90843\\r\\n\"Wolf, Tashya X.\",nulla.Integer.vulputate@eutelluseu.edu,Anguilla,1,40.39729481,71193.72803,3854.733177,762832.2606,53993.44322\\r\\n\"Barr, Hyatt D.\",sem@odiovel.edu,Mexico,1,55.57696873,46412.82136,11652.2729,595028.8431,47970.76767\\r\\n\"Hopper, Orson W.\",luctus@magnaseddui.net,Tunisia,1,47.55430896,57368.05622,10175.74457,466128.9118,43641.65727\\r\\n\"Decker, Jolie T.\",pellentesque.massa.lobortis@facilisis.net,Kyrgyzstan,1,41.27000968,65826.12291,11715.3714,416748.7309,41679.7929\\r\\n\"Chaney, Reuben I.\",Integer@vulputate.net,Saint Pierre and Miquelon,0,61.03424503,61824.8798,11211.99502,660897.0146,63140.05082\\r\\n\"Ross, Kermit D.\",Donec@lacusQuisquepurus.net,Australia,1,35.33787621,61723.00613,9913.194941,291897.4057,30757.65726\\r\\n\"Hampton, Venus Q.\",elit@faucibusMorbivehicula.net,Guadeloupe,0,54.77232025,72310.39623,3093.707686,724025.4097,65592.22012\\r\\n\"Chavez, Ralph U.\",Aenean@interdum.edu,Tuvalu,0,36.57271347,67548.77415,10462.35581,388284.2974,37871.7082\\r\\n\"Whitaker, Adena B.\",pharetra.sed.hendrerit@accumsanneque.com,Equatorial Guinea,0,47.71401166,62175.68945,12967.284,343290.677,42919.5196\\r\\nNola,elit@Fuscealiquamenim.ca,Montenegro,0,31.98877902,60584.85458,8133.45931,129635.6343,22599.45863\\r\\nMelodie,facilisi.Sed@tortordictum.com,\"Korea, South\",1,61.70429878,66655.4142,8001.644302,805075.5197,70598.96768\\r\\nSeth,dignissim@nibhPhasellus.com,Turks and Caicos Islands,0,48.59322101,63718.8812,11863.06428,298920.0067,43242.58224\\r\\nKyra,Etiam@diamluctus.org,Portugal,0,42.88453632,60862.97749,8033.550461,344060.1754,38138.57511\\r\\nCaldwell,amet@congue.edu,Iceland,1,36.2452565,67508.12293,10188.68685,141587.6498,30419.8\\r\\nBenjamin,nisi.Mauris.nulla@vitaeodiosagittis.ca,Faroe Islands,0,61.22472501,61639.76386,17870.63765,684209.551,63868.94051\\r\\nFlorence,eros@faucibus.com,\"Virgin Islands, British\",0,45.75422949,63172.95729,6332.2019,456524.7944,45112.94547\\r\\nOleg,Aenean.gravida@mifelis.com,Tuvalu,0,56.67256191,58653.6591,17142.41332,201228.0206,44361.87507\\r\\nDonovan,iaculis.odio.Nam@sedfacilisis.org,Saint Vincent and The Grenadines,1,36.42694852,40558.75456,4981.269146,283241.2769,19525.29827\\r\\nBlaze,vitae.semper.egestas@montesnascetur.co.uk,Costa Rica,0,48.94126712,76870.00765,5575.323416,266531.2969,49991.60697\\r\\nIllana,mi.pede.nonummy@euismodetcommodo.org,Bahamas,1,62.75948863,71948.80529,8061.968487,365862.7818,61731.71426\\r\\nYvette,justo@pedeCras.ca,Brazil,0,49.28968587,67629.84819,10916.85532,151946.3089,41769.38288\\r\\nWalter,metus.vitae.velit@CuraePhasellus.co.uk,Antarctica,1,44.09922748,67121.32166,12087.38116,472403.1231,46402.53583\\r\\nDexter,est.arcu@in.org,Senegal,1,43.17653402,57376.4803,12878.54582,376886.359,37376.63439\\r\\nCameran,tristique@ligulaAliquam.net,Mauritania,0,48.14257112,56944.87077,16449.0665,116407.5289,33766.6413\\r\\nPenelope,vestibulum@metus.org,Luxembourg,0,36.96953352,60174.05765,15666.43155,271414.7592,30667.60927\\r\\nHyatt,erat.Vivamus@ligula.co.uk,Algeria,1,48.98030739,81997.33071,12616.45622,237185.1714,52056.41478\\r\\nStone,neque.non@iaculisaliquet.edu,Colombia,1,40.20456044,36960.76994,1768.874438,630120.001,30736.5798\\r\\nIrma,placerat.eget.venenatis@elitpharetraut.edu,Jersey,0,41.67121696,64412.43101,10449.61818,355175.3677,39439.45349\\r\\nJosiah,Phasellus@Aliquamadipiscing.co.uk,Bolivia,1,29.59907959,70076.22764,1726.809885,552267.6361,38174.87433\\r\\nNathan,Nam.interdum.enim@et.com,Isle of Man,1,43.13272875,72016.92459,11602.74297,205006.2161,40589.8625\\r\\nStacy,aliquet.odio@fermentumvel.edu,Belarus,0,55.30394679,63186.12783,7122.163863,762601.0836,62028.71192\\r\\nKane,iaculis.quis.pede@adipiscingenim.net,Slovakia,0,40.20042717,76086.84122,9258.181529,482866.5457,48465.27211\\r\\nReed,diam.nunc@lectusconvallisest.org,Kuwait,1,37.71663125,74445.72702,7515.152476,297964.2638,40095.0498\\r\\nLani,odio.Phasellus@fringilla.co.uk,Congo (Brazzaville),0,42.65479064,85475.64202,13786.14942,267555.1178,49568.47685\\r\\nCurran,risus@Sedmalesuada.net,Tokelau,1,37.36362599,51111.76605,9057.600508,461366.7829,31408.62631\\r\\nRhonda,Sed.congue.elit@faucibusleo.ca,Hungary,0,41.35450195,79064.9559,7221.667169,365871.4992,47719.47741\\r\\nLeroy,arcu.et.pede@Morbinequetellus.org,Mauritania,1,41.93116782,55514.9934,8009.719809,394229.8972,35784.42411\\r\\nAdrienne,mauris.Morbi@ligulatortordictum.net,Kyrgyzstan,0,38.03912192,75901.81829,6512.71102,357468.1866,42905.53815\\r\\nAileen,venenatis.lacus@nuncQuisque.edu,Chile,0,42.64066561,56687.93949,10827.1614,790116.4252,48516.84335\\r\\nRafael,nonummy.Fusce@sem.net,Angola,0,43.57614914,59801.06311,8042.386734,601744.9607,45593.6849\\r\\nOlivia,lacus.vestibulum.lorem@gravidaAliquamtincidunt.ca,Grenada,0,40.99660693,57303.83325,10836.41709,258194.8443,32061.6467\\r\\nHiram,ipsum.non.arcu@placeratorci.com,Belize,0,45.84421027,43412.86301,7843.402994,392003.2864,32208.37522\\r\\nJelani,consectetuer.adipiscing.elit@vestibulumneceuismod.net,Bangladesh,1,45.76882266,58948.93261,8282.075073,205439.3663,35475.00344\\r\\nMadeson,libero.et@Crasdictum.ca,Christmas Island,1,39.814817,56086.45033,6588.606462,228388.5491,29519.56184\\r\\nUriah,molestie@commodoauctorvelit.co.uk,Niger,1,44.95472657,80015.83115,9064.618618,508555.1592,55420.56668\\r\\nBrady,massa@nec.co.uk,Malta,1,57.97429301,41409.2939,8211.34092,421318.9764,42139.64528\\r\\nDenise,montes@inconsectetuer.edu,Niue,0,61.70872559,40387.9207,5761.401538,622569.5959,50539.90169\\r\\nLyle,nascetur@amet.org,New Caledonia,0,51.52532667,48746.71666,3923.407178,217188.4056,34922.42846\\r\\nVictor,lectus.a@nonhendreritid.org,Armenia,0,44.27741911,70230.15498,8542.019129,320525.7282,43898.2733\\r\\nDemetria,Donec.at@sedlibero.net,Slovakia,0,44.02366242,64961.39305,6885.723977,265717.2542,39135.03023\\r\\nOra,bibendum.Donec.felis@liberoestcongue.org,Uruguay,1,39.66565685,57777.15558,19692.91262,601210.2803,41147.46679\\r\\nTrevor,Sed@Pellentesquetincidunttempus.edu,Chile,0,32.59143047,54447.15275,13141.31969,284155.4155,24134.59205\\r\\nKristen,urna@vitaeodiosagittis.ca,Egypt,1,44.13391466,59712.31101,7135.98755,487564.5541,42705.11311\\r\\nAristotle,ac@non.com,Namibia,0,42.22095552,65605.41798,13629.1104,297540.8814,38901.60925\\r\\nCamden,Aliquam.adipiscing.lobortis@loremut.net,Congo (Brazzaville),1,20,70467.29492,100,494606.6334,28645.39425\\r\\nUrielle,est.congue@Nunc.edu,Canada,0,52.61004535,76318.87883,6392.211408,245216.1691,52150.41786\\r\\nJolene,erat.neque.non@elit.com,Viet Nam,1,55.9330891,77657.56243,14438.24233,622831.922,66648.25077\\r\\nHolly,accumsan@parturientmontes.net,Micronesia,1,44.17501053,60487.90116,9911.037592,478428.7174,42909.27129\\r\\nWayne,molestie.orci@condimentum.com,Cape Verde,1,52.49932303,67729.9725,10279.91264,314885.1345,49248.10595\\r\\nJudith,vel.nisl.Quisque@mollisPhasellus.co.uk,Poland,0,42.5273855,49463.0635,6478.156506,201636.866,27303.17104\\r\\nDennis,nunc.nulla.vulputate@dignissimmagnaa.edu,Haiti,1,48.51272138,65850.47688,3912.385616,419556.6198,47869.82593\\r\\nKaitlin,parturient@Nuncsollicitudincommodo.co.uk,French Southern Territories,1,55.52192516,66505.38124,3942.76762,621309.5863,59984.16361\\r\\nHarriet,amet.orci@tellus.net,Mali,0,47.46701603,58260.57232,4658.41454,507572.635,45271.46081\\r\\nTatyana,sem@parturientmontesnascetur.net,Norfolk Island,0,25.17989327,45092.74073,11380.09288,158758.3577,9000\\r\\nPaula,Nam@enimmitempor.com,Northern Mariana Islands,1,44.70222518,63845.77186,7761.848528,505048.7599,46012.10616\\r\\nTamekah,ut.pharetra@ametultricies.net,Costa Rica,1,46.47392714,55293.575,8276.644566,169475.9968,32967.20191\\r\\nBrandon,non@purusaccumsaninterdum.com,Suriname,0,32.79649861,87598.01501,10814.57915,485563.7363,48785.15839\\r\\nVeda,et.euismod@Duis.co.uk,Luxembourg,1,42.78726724,71753.30877,9119.791422,400703.2655,45824.5656\\r\\nSeth,Nulla.aliquet@sedturpisnec.co.uk,Bosnia and Herzegovina,1,47.5469052,45368.15561,12203.48778,577058.1773,40102.11417\\r\\nKai,velit@molestie.com,Greenland,0,48.14631737,45362.66982,2524.992105,399437.5235,35457.1486\\r\\nPiper,erat.neque@mattisvelitjusto.org,Malawi,0,40.47710314,40727.39196,9725.549901,508528.9957,29556.7932\\r\\nHillary,ut.mi.Duis@quisarcu.com,South Sudan,1,38.54583374,58632.58875,12035.37079,516817.3173,38243.06228\\r\\nFrancis,Phasellus@estcongue.ca,Solomon Islands,0,39.14103529,66680.2741,10263.14899,556945.8742,44430.63323\\r\\nRogan,pulvinar@porttitortellus.ca,Jamaica,1,53.9049485,75892.3053,8110.946984,177878.1758,51046.42226\\r\\nKyle,a.feugiat@enimnisl.com,Papua New Guinea,0,53.37171727,59297.41631,9592.433147,567842.1267,52570.36517\\r\\nVaughan,Aliquam@aaliquet.com,Ukraine,0,51.44198125,92455.72807,9877.169366,285326.3544,61404.22578\\r\\nIndia,risus.at.fringilla@feugiat.ca,Nigeria,0,54.52160505,32697.98161,10858.02526,218808.7553,28463.64326\\r\\nEdward,rutrum.urna@faucibusidlibero.co.uk,Greenland,1,35.05685897,55418.75606,8837.654857,312927.9187,27586.20078\\r\\nLaurel,felis@orciconsectetuereuismod.ca,India,0,43.30468502,68921.40213,8120.204455,515012.2804,47979.48549\\r\\nIgor,Proin.eget@aliquetnecimperdiet.org,Grenada,0,36.51447117,43739.97829,5933.177726,517110.9454,28164.86039\\r\\nDiana,purus.ac.tellus@parturientmontesnascetur.org,Guadeloupe,0,59.61961534,81565.95967,9072.063059,544291.9504,69669.47402\\r\\nTodd,egestas.a@vel.ca,New Zealand,0,43.54252824,65364.06334,7839.414396,579640.7982,48052.65091\\r\\nZephania,montes@sedsem.ca,Malawi,1,39.2812453,65019.15701,4931.56016,341330.7344,37364.23474\\r\\nBrock,Vivamus.nisi@elitpharetraut.ca,United States Minor Outlying Islands,1,41.6796235,58243.17992,15149.03426,649323.7878,44500.81936\\r\\nAvye,Cras@eros.net,Armenia,0,32.30887578,73558.87334,11164.52652,301245.7708,35139.24793\\r\\nSerena,odio.Nam@estac.ca,Northern Mariana Islands,1,52.28979935,66088.02369,6769.181833,557098.9636,55167.37361\\r\\nBarclay,diam.Proin@ut.edu,\"Saint Helena, Ascension and Tristan da Cunha\",0,56.28750886,54441.72437,4362.720324,432850.4157,48383.69071\\r\\nIsabella,et.magnis@necmetus.ca,Turkey,1,40.75405169,60101.79725,12989.36784,340720.5185,35823.55471\\r\\nMia,sed.est@afelisullamcorper.edu,Turkmenistan,1,50.76936195,50153.43545,6596.01369,266939.1746,36517.70996\\r\\nChester,Integer@odioauctor.co.uk,Jamaica,0,57.61545628,61430.93415,11561.07365,421891.846,53110.88052\\r\\nIsaac,pretium.aliquet.metus@pretiumneque.com,Saint Kitts and Nevis,0,50.80193441,65846.5096,9141.668545,531840.3342,53049.44567\\r\\nHeather,erat.Etiam@elementum.org,Madagascar,1,29.03452095,55433.61187,10769.75059,276466.6203,21471.11367\\r\\nJustine,orci.adipiscing@penatibuset.com,Venezuela,1,52.96776171,62979.60196,14297.25366,247421.9185,45015.67953\\r\\nBert,sem.Pellentesque@quis.net,Israel,0,43.3868909,76523.33258,10373.00856,620355.2658,55377.87697\\r\\nGil,Phasellus.fermentum@dictumplacerataugue.net,France,0,62.07084214,63956.1618,16978.52745,360787.6401,56510.13294\\r\\nDolan,ipsum.Phasellus@egestasblanditNam.edu,Yemen,1,60.41643332,39460.00348,8769.290288,571245.3714,47443.74443\\r\\nCheryl,iaculis.enim@nislelementum.edu,Indonesia,1,36.65996988,66923.43536,8611.468093,522814.817,41489.64123\\r\\nCourtney,porttitor.tellus@elitelit.org,Malaysia,0,43.3654703,50051.14039,893.2353408,347177.8367,32553.53423\\r\\nNeville,felis.Nulla@mi.ca,Mauritania,0,41.7050595,61575.9502,594.8049491,497197.264,41984.62412\\r\\nGloria,Curabitur.egestas.nunc@fermentumfermentum.ca,Gambia,0,54.87954467,64430.07398,6924.106833,664862.0102,59538.40327\\r\\nJonah,augue@risusNuncac.co.uk,Myanmar,1,45.75269752,63722.00164,10711.44472,316128.4002,41352.47071\\r\\nMerrill,dolor.sit@turpisIn.com,Egypt,1,50.19720522,78518.21527,10072.48298,294506.0844,52785.16947\\r\\nNolan,Donec.at@neccursus.co.uk,Latvia,0,55.08772031,72424.80112,9831.184792,523680.7699,60117.67886\\r\\nWinter,egestas.urna.justo@maurissagittis.edu,Wallis and Futuna,0,42.90018665,77665.17195,13308.87932,349588.5608,47760.66427\\r\\nRigel,egestas.blandit.Nam@semvitaealiquam.com,Sao Tome and Principe,0,51.76741827,77345.61633,6736.75168,665099.139,64188.26862\\r\\nWalter,ligula@Cumsociis.ca,Nepal,0,41.46251483,71942.40291,6995.902524,541670.1016,48901.44342\\r\\nVanna,Cum.sociis.natoque@Sedmolestie.edu,Zimbabwe,1,37.64199977,56039.49793,12301.45679,360419.0988,31491.41457\\r\\nPearl,penatibus.et@massanonante.com,Philippines,1,53.94349722,68888.77805,10611.60686,764531.3203,64147.28888\\r\\nNell,Quisque.varius@arcuVivamussit.net,Botswana,1,59.16050864,49811.99062,14013.03451,337826.6382,45442.15353\\r\\nMarla,Camaron.marla@hotmail.com,marlal,1,46.73115245,61370.67766,9391.341628,462946.4924,45107.22566\\r\\n'}"
            ]
          },
          "metadata": {
            "tags": []
          },
          "execution_count": 392
        }
      ]
    },
    {
      "cell_type": "code",
      "metadata": {
        "id": "via_RXbt0JED",
        "colab_type": "code",
        "colab": {}
      },
      "source": [
        "from collections import Counter"
      ],
      "execution_count": null,
      "outputs": []
    },
    {
      "cell_type": "code",
      "metadata": {
        "id": "mqjoJmZFyzyx",
        "colab_type": "code",
        "colab": {}
      },
      "source": [
        "data = pd.read_csv('Car_Purchasing_Data (1).csv',encoding='latin1')\n",
        "data.head()\n",
        "dataset = data"
      ],
      "execution_count": null,
      "outputs": []
    },
    {
      "cell_type": "code",
      "metadata": {
        "id": "205h5x18Ujn3",
        "colab_type": "code",
        "colab": {
          "base_uri": "https://localhost:8080/",
          "height": 34
        },
        "outputId": "5ed88080-c63b-45cf-fd69-7d7ee76a97c7"
      },
      "source": [
        "data.shape"
      ],
      "execution_count": null,
      "outputs": [
        {
          "output_type": "execute_result",
          "data": {
            "text/plain": [
              "(500, 9)"
            ]
          },
          "metadata": {
            "tags": []
          },
          "execution_count": 398
        }
      ]
    },
    {
      "cell_type": "code",
      "metadata": {
        "id": "KZesyTPq0up4",
        "colab_type": "code",
        "colab": {}
      },
      "source": [
        "x = data.iloc[:,:-1]\n",
        "y = data.iloc[:,-1]"
      ],
      "execution_count": null,
      "outputs": []
    },
    {
      "cell_type": "code",
      "metadata": {
        "id": "3GqGXtdp_18k",
        "colab_type": "code",
        "colab": {}
      },
      "source": [
        "x = pd.DataFrame(x)\n",
        "y = pd.DataFrame(y)"
      ],
      "execution_count": null,
      "outputs": []
    },
    {
      "cell_type": "code",
      "metadata": {
        "id": "Qt5j75df0_ec",
        "colab_type": "code",
        "colab": {}
      },
      "source": [
        "data1 = x.select_dtypes(include=['object'])\n",
        "data2 = x.select_dtypes(exclude=['object'])"
      ],
      "execution_count": null,
      "outputs": []
    },
    {
      "cell_type": "code",
      "metadata": {
        "id": "w7-eHeLuzz65",
        "colab_type": "code",
        "colab": {
          "base_uri": "https://localhost:8080/",
          "height": 204
        },
        "outputId": "572da79a-cc72-4f94-c3cd-1d347b8b17b1"
      },
      "source": [
        "data1.head()"
      ],
      "execution_count": null,
      "outputs": [
        {
          "output_type": "execute_result",
          "data": {
            "text/html": [
              "<div>\n",
              "<style scoped>\n",
              "    .dataframe tbody tr th:only-of-type {\n",
              "        vertical-align: middle;\n",
              "    }\n",
              "\n",
              "    .dataframe tbody tr th {\n",
              "        vertical-align: top;\n",
              "    }\n",
              "\n",
              "    .dataframe thead th {\n",
              "        text-align: right;\n",
              "    }\n",
              "</style>\n",
              "<table border=\"1\" class=\"dataframe\">\n",
              "  <thead>\n",
              "    <tr style=\"text-align: right;\">\n",
              "      <th></th>\n",
              "      <th>Customer Name</th>\n",
              "      <th>Customer e-mail</th>\n",
              "      <th>Country</th>\n",
              "    </tr>\n",
              "  </thead>\n",
              "  <tbody>\n",
              "    <tr>\n",
              "      <th>0</th>\n",
              "      <td>Martina Avila</td>\n",
              "      <td>cubilia.Curae.Phasellus@quisaccumsanconvallis.edu</td>\n",
              "      <td>Bulgaria</td>\n",
              "    </tr>\n",
              "    <tr>\n",
              "      <th>1</th>\n",
              "      <td>Harlan Barnes</td>\n",
              "      <td>eu.dolor@diam.co.uk</td>\n",
              "      <td>Belize</td>\n",
              "    </tr>\n",
              "    <tr>\n",
              "      <th>2</th>\n",
              "      <td>Naomi Rodriquez</td>\n",
              "      <td>vulputate.mauris.sagittis@ametconsectetueradip...</td>\n",
              "      <td>Algeria</td>\n",
              "    </tr>\n",
              "    <tr>\n",
              "      <th>3</th>\n",
              "      <td>Jade Cunningham</td>\n",
              "      <td>malesuada@dignissim.com</td>\n",
              "      <td>Cook Islands</td>\n",
              "    </tr>\n",
              "    <tr>\n",
              "      <th>4</th>\n",
              "      <td>Cedric Leach</td>\n",
              "      <td>felis.ullamcorper.viverra@egetmollislectus.net</td>\n",
              "      <td>Brazil</td>\n",
              "    </tr>\n",
              "  </tbody>\n",
              "</table>\n",
              "</div>"
            ],
            "text/plain": [
              "     Customer Name  ...       Country\n",
              "0    Martina Avila  ...      Bulgaria\n",
              "1    Harlan Barnes  ...        Belize\n",
              "2  Naomi Rodriquez  ...       Algeria\n",
              "3  Jade Cunningham  ...  Cook Islands\n",
              "4     Cedric Leach  ...        Brazil\n",
              "\n",
              "[5 rows x 3 columns]"
            ]
          },
          "metadata": {
            "tags": []
          },
          "execution_count": 402
        }
      ]
    },
    {
      "cell_type": "code",
      "metadata": {
        "id": "_XUju79p0T1q",
        "colab_type": "code",
        "colab": {
          "base_uri": "https://localhost:8080/",
          "height": 187
        },
        "outputId": "f8ecceb1-9842-4ebd-951b-9cfa6494fc9d"
      },
      "source": [
        "from sklearn.preprocessing import LabelEncoder\n",
        "label = LabelEncoder()\n",
        "data1.loc[:,:] = data1.loc[:,:].apply(label.fit_transform)"
      ],
      "execution_count": null,
      "outputs": [
        {
          "output_type": "stream",
          "text": [
            "/usr/local/lib/python3.6/dist-packages/pandas/core/indexing.py:671: SettingWithCopyWarning: \n",
            "A value is trying to be set on a copy of a slice from a DataFrame\n",
            "\n",
            "See the caveats in the documentation: https://pandas.pydata.org/pandas-docs/stable/user_guide/indexing.html#returning-a-view-versus-a-copy\n",
            "  self._setitem_with_indexer(indexer, value)\n",
            "/usr/local/lib/python3.6/dist-packages/ipykernel_launcher.py:3: SettingWithCopyWarning: \n",
            "A value is trying to be set on a copy of a slice from a DataFrame\n",
            "\n",
            "See the caveats in the documentation: https://pandas.pydata.org/pandas-docs/stable/user_guide/indexing.html#returning-a-view-versus-a-copy\n",
            "  This is separate from the ipykernel package so we can avoid doing imports until\n"
          ],
          "name": "stderr"
        }
      ]
    },
    {
      "cell_type": "code",
      "metadata": {
        "id": "JkqFM-Ie3HBi",
        "colab_type": "code",
        "colab": {
          "base_uri": "https://localhost:8080/",
          "height": 204
        },
        "outputId": "5ac37211-c128-4f28-bf0e-e9882adbac1d"
      },
      "source": [
        "data1.head()"
      ],
      "execution_count": null,
      "outputs": [
        {
          "output_type": "execute_result",
          "data": {
            "text/html": [
              "<div>\n",
              "<style scoped>\n",
              "    .dataframe tbody tr th:only-of-type {\n",
              "        vertical-align: middle;\n",
              "    }\n",
              "\n",
              "    .dataframe tbody tr th {\n",
              "        vertical-align: top;\n",
              "    }\n",
              "\n",
              "    .dataframe thead th {\n",
              "        text-align: right;\n",
              "    }\n",
              "</style>\n",
              "<table border=\"1\" class=\"dataframe\">\n",
              "  <thead>\n",
              "    <tr style=\"text-align: right;\">\n",
              "      <th></th>\n",
              "      <th>Customer Name</th>\n",
              "      <th>Customer e-mail</th>\n",
              "      <th>Country</th>\n",
              "    </tr>\n",
              "  </thead>\n",
              "  <tbody>\n",
              "    <tr>\n",
              "      <th>0</th>\n",
              "      <td>288</td>\n",
              "      <td>139</td>\n",
              "      <td>27</td>\n",
              "    </tr>\n",
              "    <tr>\n",
              "      <th>1</th>\n",
              "      <td>168</td>\n",
              "      <td>224</td>\n",
              "      <td>17</td>\n",
              "    </tr>\n",
              "    <tr>\n",
              "      <th>2</th>\n",
              "      <td>311</td>\n",
              "      <td>498</td>\n",
              "      <td>1</td>\n",
              "    </tr>\n",
              "    <tr>\n",
              "      <th>3</th>\n",
              "      <td>204</td>\n",
              "      <td>307</td>\n",
              "      <td>41</td>\n",
              "    </tr>\n",
              "    <tr>\n",
              "      <th>4</th>\n",
              "      <td>70</td>\n",
              "      <td>241</td>\n",
              "      <td>26</td>\n",
              "    </tr>\n",
              "  </tbody>\n",
              "</table>\n",
              "</div>"
            ],
            "text/plain": [
              "   Customer Name  Customer e-mail  Country\n",
              "0            288              139       27\n",
              "1            168              224       17\n",
              "2            311              498        1\n",
              "3            204              307       41\n",
              "4             70              241       26"
            ]
          },
          "metadata": {
            "tags": []
          },
          "execution_count": 404
        }
      ]
    },
    {
      "cell_type": "code",
      "metadata": {
        "id": "BMB2kWKW0GGw",
        "colab_type": "code",
        "colab": {
          "base_uri": "https://localhost:8080/",
          "height": 68
        },
        "outputId": "4d8aa7ef-31bf-411f-a355-b145f8e21f4b"
      },
      "source": [
        "# Finding Unique Labels in Categorical Features\n",
        "# Important since OneHotEncoding will increase the number of features to more than 1000. \n",
        "# That is ridiculous\n",
        "for col in data1.columns:\n",
        "  print(col,':', len(data1[col].unique()), 'labels')"
      ],
      "execution_count": null,
      "outputs": [
        {
          "output_type": "stream",
          "text": [
            "Customer Name : 498 labels\n",
            "Customer e-mail : 500 labels\n",
            "Country : 211 labels\n"
          ],
          "name": "stdout"
        }
      ]
    },
    {
      "cell_type": "code",
      "metadata": {
        "id": "OD1hbk0l3cj1",
        "colab_type": "code",
        "colab": {}
      },
      "source": [
        "# Very Important if column name have spaces in its name\n",
        "data1.columns = ['col1','col2','col3']"
      ],
      "execution_count": null,
      "outputs": []
    },
    {
      "cell_type": "code",
      "metadata": {
        "id": "vr4uqHDo3Rsh",
        "colab_type": "code",
        "colab": {
          "base_uri": "https://localhost:8080/",
          "height": 197
        },
        "outputId": "f8cfa950-59a4-49e7-d411-2b2ddb53857c"
      },
      "source": [
        "# Get top 20 labels in any one of the columns first\n",
        "\n",
        "data1.col2.value_counts().sort_values(ascending=False).head(20).index"
      ],
      "execution_count": null,
      "outputs": [
        {
          "output_type": "error",
          "ename": "NameError",
          "evalue": "ignored",
          "traceback": [
            "\u001b[0;31m---------------------------------------------------------------------------\u001b[0m",
            "\u001b[0;31mNameError\u001b[0m                                 Traceback (most recent call last)",
            "\u001b[0;32m<ipython-input-1-66e04938c995>\u001b[0m in \u001b[0;36m<module>\u001b[0;34m()\u001b[0m\n\u001b[1;32m      1\u001b[0m \u001b[0;31m# Get top 20 labels in any one of the columns first\u001b[0m\u001b[0;34m\u001b[0m\u001b[0;34m\u001b[0m\u001b[0;34m\u001b[0m\u001b[0m\n\u001b[1;32m      2\u001b[0m \u001b[0;34m\u001b[0m\u001b[0m\n\u001b[0;32m----> 3\u001b[0;31m \u001b[0mdata1\u001b[0m\u001b[0;34m.\u001b[0m\u001b[0mcol2\u001b[0m\u001b[0;34m.\u001b[0m\u001b[0mvalue_counts\u001b[0m\u001b[0;34m(\u001b[0m\u001b[0;34m)\u001b[0m\u001b[0;34m.\u001b[0m\u001b[0msort_values\u001b[0m\u001b[0;34m(\u001b[0m\u001b[0mascending\u001b[0m\u001b[0;34m=\u001b[0m\u001b[0;32mFalse\u001b[0m\u001b[0;34m)\u001b[0m\u001b[0;34m.\u001b[0m\u001b[0mhead\u001b[0m\u001b[0;34m(\u001b[0m\u001b[0;36m20\u001b[0m\u001b[0;34m)\u001b[0m\u001b[0;34m.\u001b[0m\u001b[0mindex\u001b[0m\u001b[0;34m\u001b[0m\u001b[0;34m\u001b[0m\u001b[0m\n\u001b[0m",
            "\u001b[0;31mNameError\u001b[0m: name 'data1' is not defined"
          ]
        }
      ]
    },
    {
      "cell_type": "code",
      "metadata": {
        "id": "ue5S7CBv4tvJ",
        "colab_type": "code",
        "colab": {}
      },
      "source": [
        "# Get top 10 labels for each categorical column\n",
        "# Use .index to get labels not values\n",
        "\n",
        "top10= [x for x in data1.col1.value_counts().sort_values(ascending=False).head(10).index]\n"
      ],
      "execution_count": null,
      "outputs": []
    },
    {
      "cell_type": "markdown",
      "metadata": {
        "id": "NPDkM-t45TvD",
        "colab_type": "text"
      },
      "source": [
        "How to get dummies for only top 10 labels occuring for a single categorical column\n",
        "```\n",
        "for label in top10:\n",
        "  data1[label] = np.where(label== data1['col1'],1,0)\n",
        "\n",
        "data1[['col1']+top10].head(50)\n",
        "```\n",
        "\n"
      ]
    },
    {
      "cell_type": "code",
      "metadata": {
        "id": "EiUX8iy86vNI",
        "colab_type": "code",
        "colab": {}
      },
      "source": [
        "data1.head()"
      ],
      "execution_count": null,
      "outputs": []
    },
    {
      "cell_type": "code",
      "metadata": {
        "id": "ok4crLl2_Z2w",
        "colab_type": "code",
        "colab": {}
      },
      "source": [
        "def onehotmax(data,column):\n",
        "  column = str(column)\n",
        "  print(column,\" has been one hot encoded for top 10 labels\")\n",
        "  top10 = [x for x in data[column].value_counts().sort_values(ascending=False).head(10).index]\n",
        "  i = 0\n",
        "  for label in top10:\n",
        "    data[column+'_'+str(label)] = np.where(data[column]==label,1,0)\n"
      ],
      "execution_count": null,
      "outputs": []
    },
    {
      "cell_type": "code",
      "metadata": {
        "id": "jTRPe7hWI5-v",
        "colab_type": "code",
        "colab": {
          "base_uri": "https://localhost:8080/",
          "height": 136
        },
        "outputId": "603e2fd8-136c-47ad-efa7-1ef1f6b11287"
      },
      "source": [
        "onehotmax(data1,'col1')"
      ],
      "execution_count": null,
      "outputs": [
        {
          "output_type": "stream",
          "text": [
            "col1  has been one hot encoded for top 10 labels\n"
          ],
          "name": "stdout"
        },
        {
          "output_type": "stream",
          "text": [
            "/usr/local/lib/python3.6/dist-packages/ipykernel_launcher.py:7: SettingWithCopyWarning: \n",
            "A value is trying to be set on a copy of a slice from a DataFrame.\n",
            "Try using .loc[row_indexer,col_indexer] = value instead\n",
            "\n",
            "See the caveats in the documentation: https://pandas.pydata.org/pandas-docs/stable/user_guide/indexing.html#returning-a-view-versus-a-copy\n",
            "  import sys\n"
          ],
          "name": "stderr"
        }
      ]
    },
    {
      "cell_type": "code",
      "metadata": {
        "id": "woITh3xwJhJ0",
        "colab_type": "code",
        "colab": {
          "base_uri": "https://localhost:8080/",
          "height": 204
        },
        "outputId": "4b0949f7-1270-48a4-c715-72ee10659a24"
      },
      "source": [
        "data1.head()\n"
      ],
      "execution_count": null,
      "outputs": [
        {
          "output_type": "execute_result",
          "data": {
            "text/html": [
              "<div>\n",
              "<style scoped>\n",
              "    .dataframe tbody tr th:only-of-type {\n",
              "        vertical-align: middle;\n",
              "    }\n",
              "\n",
              "    .dataframe tbody tr th {\n",
              "        vertical-align: top;\n",
              "    }\n",
              "\n",
              "    .dataframe thead th {\n",
              "        text-align: right;\n",
              "    }\n",
              "</style>\n",
              "<table border=\"1\" class=\"dataframe\">\n",
              "  <thead>\n",
              "    <tr style=\"text-align: right;\">\n",
              "      <th></th>\n",
              "      <th>col1</th>\n",
              "      <th>col2</th>\n",
              "      <th>col3</th>\n",
              "      <th>col1_411</th>\n",
              "      <th>col1_475</th>\n",
              "      <th>col1_11</th>\n",
              "      <th>col1_29</th>\n",
              "      <th>col1_60</th>\n",
              "      <th>col1_28</th>\n",
              "      <th>col1_1</th>\n",
              "      <th>col1_2</th>\n",
              "      <th>col1_3</th>\n",
              "      <th>col1_4</th>\n",
              "    </tr>\n",
              "  </thead>\n",
              "  <tbody>\n",
              "    <tr>\n",
              "      <th>0</th>\n",
              "      <td>288</td>\n",
              "      <td>139</td>\n",
              "      <td>27</td>\n",
              "      <td>0</td>\n",
              "      <td>0</td>\n",
              "      <td>0</td>\n",
              "      <td>0</td>\n",
              "      <td>0</td>\n",
              "      <td>0</td>\n",
              "      <td>0</td>\n",
              "      <td>0</td>\n",
              "      <td>0</td>\n",
              "      <td>0</td>\n",
              "    </tr>\n",
              "    <tr>\n",
              "      <th>1</th>\n",
              "      <td>168</td>\n",
              "      <td>224</td>\n",
              "      <td>17</td>\n",
              "      <td>0</td>\n",
              "      <td>0</td>\n",
              "      <td>0</td>\n",
              "      <td>0</td>\n",
              "      <td>0</td>\n",
              "      <td>0</td>\n",
              "      <td>0</td>\n",
              "      <td>0</td>\n",
              "      <td>0</td>\n",
              "      <td>0</td>\n",
              "    </tr>\n",
              "    <tr>\n",
              "      <th>2</th>\n",
              "      <td>311</td>\n",
              "      <td>498</td>\n",
              "      <td>1</td>\n",
              "      <td>0</td>\n",
              "      <td>0</td>\n",
              "      <td>0</td>\n",
              "      <td>0</td>\n",
              "      <td>0</td>\n",
              "      <td>0</td>\n",
              "      <td>0</td>\n",
              "      <td>0</td>\n",
              "      <td>0</td>\n",
              "      <td>0</td>\n",
              "    </tr>\n",
              "    <tr>\n",
              "      <th>3</th>\n",
              "      <td>204</td>\n",
              "      <td>307</td>\n",
              "      <td>41</td>\n",
              "      <td>0</td>\n",
              "      <td>0</td>\n",
              "      <td>0</td>\n",
              "      <td>0</td>\n",
              "      <td>0</td>\n",
              "      <td>0</td>\n",
              "      <td>0</td>\n",
              "      <td>0</td>\n",
              "      <td>0</td>\n",
              "      <td>0</td>\n",
              "    </tr>\n",
              "    <tr>\n",
              "      <th>4</th>\n",
              "      <td>70</td>\n",
              "      <td>241</td>\n",
              "      <td>26</td>\n",
              "      <td>0</td>\n",
              "      <td>0</td>\n",
              "      <td>0</td>\n",
              "      <td>0</td>\n",
              "      <td>0</td>\n",
              "      <td>0</td>\n",
              "      <td>0</td>\n",
              "      <td>0</td>\n",
              "      <td>0</td>\n",
              "      <td>0</td>\n",
              "    </tr>\n",
              "  </tbody>\n",
              "</table>\n",
              "</div>"
            ],
            "text/plain": [
              "   col1  col2  col3  col1_411  ...  col1_1  col1_2  col1_3  col1_4\n",
              "0   288   139    27         0  ...       0       0       0       0\n",
              "1   168   224    17         0  ...       0       0       0       0\n",
              "2   311   498     1         0  ...       0       0       0       0\n",
              "3   204   307    41         0  ...       0       0       0       0\n",
              "4    70   241    26         0  ...       0       0       0       0\n",
              "\n",
              "[5 rows x 13 columns]"
            ]
          },
          "metadata": {
            "tags": []
          },
          "execution_count": 412
        }
      ]
    },
    {
      "cell_type": "code",
      "metadata": {
        "id": "jmkkm8NeL2PM",
        "colab_type": "code",
        "colab": {
          "base_uri": "https://localhost:8080/",
          "height": 51
        },
        "outputId": "03782db4-4c15-4b01-c737-f99b961ea566"
      },
      "source": [
        "onehotmax(data1,'col2')\n",
        "onehotmax(data1,'col3')"
      ],
      "execution_count": null,
      "outputs": [
        {
          "output_type": "stream",
          "text": [
            "col2  has been one hot encoded for top 10 labels\n",
            "col3  has been one hot encoded for top 10 labels\n"
          ],
          "name": "stdout"
        }
      ]
    },
    {
      "cell_type": "code",
      "metadata": {
        "id": "ImzHwJVYL-si",
        "colab_type": "code",
        "colab": {
          "base_uri": "https://localhost:8080/",
          "height": 34
        },
        "outputId": "8e1d1444-34a6-46e3-966b-9e1cb8fdb11b"
      },
      "source": [
        "data1.shape"
      ],
      "execution_count": null,
      "outputs": [
        {
          "output_type": "execute_result",
          "data": {
            "text/plain": [
              "(500, 33)"
            ]
          },
          "metadata": {
            "tags": []
          },
          "execution_count": 414
        }
      ]
    },
    {
      "cell_type": "code",
      "metadata": {
        "id": "crwefJZ0MAQ1",
        "colab_type": "code",
        "colab": {}
      },
      "source": [
        "cols_to_drop=['col1','col2','col3']\n",
        "data1 = data1.drop(cols_to_drop,axis=1)"
      ],
      "execution_count": null,
      "outputs": []
    },
    {
      "cell_type": "code",
      "metadata": {
        "id": "3-DvWK5NMcCY",
        "colab_type": "code",
        "colab": {
          "base_uri": "https://localhost:8080/",
          "height": 34
        },
        "outputId": "784db67f-350b-439b-c3cf-15fc1750538b"
      },
      "source": [
        "data1.shape"
      ],
      "execution_count": null,
      "outputs": [
        {
          "output_type": "execute_result",
          "data": {
            "text/plain": [
              "(500, 30)"
            ]
          },
          "metadata": {
            "tags": []
          },
          "execution_count": 416
        }
      ]
    },
    {
      "cell_type": "code",
      "metadata": {
        "id": "b0KGI9Vy0V4c",
        "colab_type": "code",
        "colab": {}
      },
      "source": [
        "\n",
        "#hot = OneHotEncoder()\n",
        "#data1 = hot.fit_transform(data1).toarray()"
      ],
      "execution_count": null,
      "outputs": []
    },
    {
      "cell_type": "code",
      "metadata": {
        "id": "NEmhvQk63B5A",
        "colab_type": "code",
        "colab": {
          "base_uri": "https://localhost:8080/",
          "height": 51
        },
        "outputId": "51c08f7c-e27a-4ca1-a657-041cbbcd2a72"
      },
      "source": [
        "data1 = pd.DataFrame(data1)\n",
        "print(data1.shape)\n",
        "data2 = pd.DataFrame(data2)\n",
        "print(data2.shape)"
      ],
      "execution_count": null,
      "outputs": [
        {
          "output_type": "stream",
          "text": [
            "(500, 30)\n",
            "(500, 5)\n"
          ],
          "name": "stdout"
        }
      ]
    },
    {
      "cell_type": "code",
      "metadata": {
        "id": "2jWLEnsE5nZs",
        "colab_type": "code",
        "colab": {}
      },
      "source": [
        "frames = [data1, data2]\n",
        "datanew = pd.concat(frames,axis=1)"
      ],
      "execution_count": null,
      "outputs": []
    },
    {
      "cell_type": "code",
      "metadata": {
        "id": "nQHYUp416JY4",
        "colab_type": "code",
        "colab": {}
      },
      "source": [
        "datanew.shape \n",
        "x = datanew"
      ],
      "execution_count": null,
      "outputs": []
    },
    {
      "cell_type": "code",
      "metadata": {
        "id": "HS_HkZj67bik",
        "colab_type": "code",
        "colab": {
          "base_uri": "https://localhost:8080/",
          "height": 34
        },
        "outputId": "91b6173f-f23e-48e8-97f4-1391d4734843"
      },
      "source": [
        "x.shape"
      ],
      "execution_count": null,
      "outputs": [
        {
          "output_type": "execute_result",
          "data": {
            "text/plain": [
              "(500, 35)"
            ]
          },
          "metadata": {
            "tags": []
          },
          "execution_count": 420
        }
      ]
    },
    {
      "cell_type": "code",
      "metadata": {
        "id": "o4y4Cz077ccc",
        "colab_type": "code",
        "colab": {
          "base_uri": "https://localhost:8080/",
          "height": 34
        },
        "outputId": "6cb51427-7569-473b-a2a4-5d23e95dee35"
      },
      "source": [
        "y=pd.DataFrame(y)\n",
        "y.shape"
      ],
      "execution_count": null,
      "outputs": [
        {
          "output_type": "execute_result",
          "data": {
            "text/plain": [
              "(500, 1)"
            ]
          },
          "metadata": {
            "tags": []
          },
          "execution_count": 421
        }
      ]
    },
    {
      "cell_type": "code",
      "metadata": {
        "id": "PbDCJXhcNjr3",
        "colab_type": "code",
        "colab": {
          "base_uri": "https://localhost:8080/",
          "height": 278
        },
        "outputId": "60f0930f-83c6-4cf6-d70d-228a4031209d"
      },
      "source": [
        "plt.plot(x,y,)\n",
        "plt.show()"
      ],
      "execution_count": null,
      "outputs": [
        {
          "output_type": "display_data",
          "data": {
            "image/png": "[encoded data removed]",
            "text/plain": [
              "<Figure size 432x288 with 1 Axes>"
            ]
          },
          "metadata": {
            "tags": [],
            "needs_background": "light"
          }
        }
      ]
    },
    {
      "cell_type": "code",
      "metadata": {
        "id": "iFdyHMfkWEjo",
        "colab_type": "code",
        "colab": {
          "base_uri": "https://localhost:8080/",
          "height": 409
        },
        "outputId": "d1145025-db34-45de-c690-7be412e0894f"
      },
      "source": [
        "import seaborn as sns\n",
        "sns.pairplot(data, x_vars=x.columns, y_vars=y.columns, size=7, aspect=0.7)"
      ],
      "execution_count": null,
      "outputs": [
        {
          "output_type": "stream",
          "text": [
            "/usr/local/lib/python3.6/dist-packages/seaborn/axisgrid.py:2071: UserWarning: The `size` parameter has been renamed to `height`; please update your code.\n",
            "  warnings.warn(msg, UserWarning)\n"
          ],
          "name": "stderr"
        },
        {
          "output_type": "error",
          "ename": "KeyError",
          "evalue": "ignored",
          "traceback": [
            "\u001b[0;31m---------------------------------------------------------------------------\u001b[0m",
            "\u001b[0;31mKeyError\u001b[0m                                  Traceback (most recent call last)",
            "\u001b[0;32m<ipython-input-425-d396c029d786>\u001b[0m in \u001b[0;36m<module>\u001b[0;34m()\u001b[0m\n\u001b[1;32m      1\u001b[0m \u001b[0;32mimport\u001b[0m \u001b[0mseaborn\u001b[0m \u001b[0;32mas\u001b[0m \u001b[0msns\u001b[0m\u001b[0;34m\u001b[0m\u001b[0;34m\u001b[0m\u001b[0m\n\u001b[0;32m----> 2\u001b[0;31m \u001b[0msns\u001b[0m\u001b[0;34m.\u001b[0m\u001b[0mpairplot\u001b[0m\u001b[0;34m(\u001b[0m\u001b[0mdata\u001b[0m\u001b[0;34m,\u001b[0m \u001b[0mx_vars\u001b[0m\u001b[0;34m=\u001b[0m\u001b[0mx\u001b[0m\u001b[0;34m.\u001b[0m\u001b[0mcolumns\u001b[0m\u001b[0;34m,\u001b[0m \u001b[0my_vars\u001b[0m\u001b[0;34m=\u001b[0m\u001b[0my\u001b[0m\u001b[0;34m.\u001b[0m\u001b[0mcolumns\u001b[0m\u001b[0;34m,\u001b[0m \u001b[0msize\u001b[0m\u001b[0;34m=\u001b[0m\u001b[0;36m7\u001b[0m\u001b[0;34m,\u001b[0m \u001b[0maspect\u001b[0m\u001b[0;34m=\u001b[0m\u001b[0;36m0.7\u001b[0m\u001b[0;34m)\u001b[0m\u001b[0;34m\u001b[0m\u001b[0;34m\u001b[0m\u001b[0m\n\u001b[0m",
            "\u001b[0;32m/usr/local/lib/python3.6/dist-packages/seaborn/axisgrid.py\u001b[0m in \u001b[0;36mpairplot\u001b[0;34m(data, hue, hue_order, palette, vars, x_vars, y_vars, kind, diag_kind, markers, height, aspect, corner, dropna, plot_kws, diag_kws, grid_kws, size)\u001b[0m\n\u001b[1;32m   2121\u001b[0m     \u001b[0;32mif\u001b[0m \u001b[0mkind\u001b[0m \u001b[0;34m==\u001b[0m \u001b[0;34m\"scatter\"\u001b[0m\u001b[0;34m:\u001b[0m\u001b[0;34m\u001b[0m\u001b[0;34m\u001b[0m\u001b[0m\n\u001b[1;32m   2122\u001b[0m         \u001b[0;32mfrom\u001b[0m \u001b[0;34m.\u001b[0m\u001b[0mrelational\u001b[0m \u001b[0;32mimport\u001b[0m \u001b[0mscatterplot\u001b[0m  \u001b[0;31m# Avoid circular import\u001b[0m\u001b[0;34m\u001b[0m\u001b[0;34m\u001b[0m\u001b[0m\n\u001b[0;32m-> 2123\u001b[0;31m         \u001b[0mplotter\u001b[0m\u001b[0;34m(\u001b[0m\u001b[0mscatterplot\u001b[0m\u001b[0;34m,\u001b[0m \u001b[0;34m**\u001b[0m\u001b[0mplot_kws\u001b[0m\u001b[0;34m)\u001b[0m\u001b[0;34m\u001b[0m\u001b[0;34m\u001b[0m\u001b[0m\n\u001b[0m\u001b[1;32m   2124\u001b[0m     \u001b[0;32melif\u001b[0m \u001b[0mkind\u001b[0m \u001b[0;34m==\u001b[0m \u001b[0;34m\"reg\"\u001b[0m\u001b[0;34m:\u001b[0m\u001b[0;34m\u001b[0m\u001b[0;34m\u001b[0m\u001b[0m\n\u001b[1;32m   2125\u001b[0m         \u001b[0;32mfrom\u001b[0m \u001b[0;34m.\u001b[0m\u001b[0mregression\u001b[0m \u001b[0;32mimport\u001b[0m \u001b[0mregplot\u001b[0m  \u001b[0;31m# Avoid circular import\u001b[0m\u001b[0;34m\u001b[0m\u001b[0;34m\u001b[0m\u001b[0m\n",
            "\u001b[0;32m/usr/local/lib/python3.6/dist-packages/seaborn/axisgrid.py\u001b[0m in \u001b[0;36mmap\u001b[0;34m(self, func, **kwargs)\u001b[0m\n\u001b[1;32m   1355\u001b[0m         \u001b[0mrow_indices\u001b[0m\u001b[0;34m,\u001b[0m \u001b[0mcol_indices\u001b[0m \u001b[0;34m=\u001b[0m \u001b[0mnp\u001b[0m\u001b[0;34m.\u001b[0m\u001b[0mindices\u001b[0m\u001b[0;34m(\u001b[0m\u001b[0mself\u001b[0m\u001b[0;34m.\u001b[0m\u001b[0maxes\u001b[0m\u001b[0;34m.\u001b[0m\u001b[0mshape\u001b[0m\u001b[0;34m)\u001b[0m\u001b[0;34m\u001b[0m\u001b[0;34m\u001b[0m\u001b[0m\n\u001b[1;32m   1356\u001b[0m         \u001b[0mindices\u001b[0m \u001b[0;34m=\u001b[0m \u001b[0mzip\u001b[0m\u001b[0;34m(\u001b[0m\u001b[0mrow_indices\u001b[0m\u001b[0;34m.\u001b[0m\u001b[0mflat\u001b[0m\u001b[0;34m,\u001b[0m \u001b[0mcol_indices\u001b[0m\u001b[0;34m.\u001b[0m\u001b[0mflat\u001b[0m\u001b[0;34m)\u001b[0m\u001b[0;34m\u001b[0m\u001b[0;34m\u001b[0m\u001b[0m\n\u001b[0;32m-> 1357\u001b[0;31m         \u001b[0mself\u001b[0m\u001b[0;34m.\u001b[0m\u001b[0m_map_bivariate\u001b[0m\u001b[0;34m(\u001b[0m\u001b[0mfunc\u001b[0m\u001b[0;34m,\u001b[0m \u001b[0mindices\u001b[0m\u001b[0;34m,\u001b[0m \u001b[0;34m**\u001b[0m\u001b[0mkwargs\u001b[0m\u001b[0;34m)\u001b[0m\u001b[0;34m\u001b[0m\u001b[0;34m\u001b[0m\u001b[0m\n\u001b[0m\u001b[1;32m   1358\u001b[0m         \u001b[0;32mreturn\u001b[0m \u001b[0mself\u001b[0m\u001b[0;34m\u001b[0m\u001b[0;34m\u001b[0m\u001b[0m\n\u001b[1;32m   1359\u001b[0m \u001b[0;34m\u001b[0m\u001b[0m\n",
            "\u001b[0;32m/usr/local/lib/python3.6/dist-packages/seaborn/axisgrid.py\u001b[0m in \u001b[0;36m_map_bivariate\u001b[0;34m(self, func, indices, **kwargs)\u001b[0m\n\u001b[1;32m   1496\u001b[0m             \u001b[0my_var\u001b[0m \u001b[0;34m=\u001b[0m \u001b[0mself\u001b[0m\u001b[0;34m.\u001b[0m\u001b[0my_vars\u001b[0m\u001b[0;34m[\u001b[0m\u001b[0mi\u001b[0m\u001b[0;34m]\u001b[0m\u001b[0;34m\u001b[0m\u001b[0;34m\u001b[0m\u001b[0m\n\u001b[1;32m   1497\u001b[0m             \u001b[0max\u001b[0m \u001b[0;34m=\u001b[0m \u001b[0mself\u001b[0m\u001b[0;34m.\u001b[0m\u001b[0maxes\u001b[0m\u001b[0;34m[\u001b[0m\u001b[0mi\u001b[0m\u001b[0;34m,\u001b[0m \u001b[0mj\u001b[0m\u001b[0;34m]\u001b[0m\u001b[0;34m\u001b[0m\u001b[0;34m\u001b[0m\u001b[0m\n\u001b[0;32m-> 1498\u001b[0;31m             \u001b[0mself\u001b[0m\u001b[0;34m.\u001b[0m\u001b[0m_plot_bivariate\u001b[0m\u001b[0;34m(\u001b[0m\u001b[0mx_var\u001b[0m\u001b[0;34m,\u001b[0m \u001b[0my_var\u001b[0m\u001b[0;34m,\u001b[0m \u001b[0max\u001b[0m\u001b[0;34m,\u001b[0m \u001b[0mfunc\u001b[0m\u001b[0;34m,\u001b[0m \u001b[0mkw_color\u001b[0m\u001b[0;34m,\u001b[0m \u001b[0;34m**\u001b[0m\u001b[0mkws\u001b[0m\u001b[0;34m)\u001b[0m\u001b[0;34m\u001b[0m\u001b[0;34m\u001b[0m\u001b[0m\n\u001b[0m\u001b[1;32m   1499\u001b[0m         \u001b[0mself\u001b[0m\u001b[0;34m.\u001b[0m\u001b[0m_add_axis_labels\u001b[0m\u001b[0;34m(\u001b[0m\u001b[0;34m)\u001b[0m\u001b[0;34m\u001b[0m\u001b[0;34m\u001b[0m\u001b[0m\n\u001b[1;32m   1500\u001b[0m \u001b[0;34m\u001b[0m\u001b[0m\n",
            "\u001b[0;32m/usr/local/lib/python3.6/dist-packages/seaborn/axisgrid.py\u001b[0m in \u001b[0;36m_plot_bivariate\u001b[0;34m(self, x_var, y_var, ax, func, kw_color, **kwargs)\u001b[0m\n\u001b[1;32m   1517\u001b[0m \u001b[0;34m\u001b[0m\u001b[0m\n\u001b[1;32m   1518\u001b[0m             \u001b[0;32mif\u001b[0m \u001b[0mself\u001b[0m\u001b[0;34m.\u001b[0m\u001b[0m_dropna\u001b[0m\u001b[0;34m:\u001b[0m\u001b[0;34m\u001b[0m\u001b[0;34m\u001b[0m\u001b[0m\n\u001b[0;32m-> 1519\u001b[0;31m                 \u001b[0mdata_k\u001b[0m \u001b[0;34m=\u001b[0m \u001b[0mdata_k\u001b[0m\u001b[0;34m[\u001b[0m\u001b[0maxes_vars\u001b[0m\u001b[0;34m]\u001b[0m\u001b[0;34m.\u001b[0m\u001b[0mdropna\u001b[0m\u001b[0;34m(\u001b[0m\u001b[0;34m)\u001b[0m\u001b[0;34m\u001b[0m\u001b[0;34m\u001b[0m\u001b[0m\n\u001b[0m\u001b[1;32m   1520\u001b[0m \u001b[0;34m\u001b[0m\u001b[0m\n\u001b[1;32m   1521\u001b[0m             \u001b[0mx\u001b[0m \u001b[0;34m=\u001b[0m \u001b[0mdata_k\u001b[0m\u001b[0;34m[\u001b[0m\u001b[0mx_var\u001b[0m\u001b[0;34m]\u001b[0m\u001b[0;34m\u001b[0m\u001b[0;34m\u001b[0m\u001b[0m\n",
            "\u001b[0;32m/usr/local/lib/python3.6/dist-packages/pandas/core/frame.py\u001b[0m in \u001b[0;36m__getitem__\u001b[0;34m(self, key)\u001b[0m\n\u001b[1;32m   2804\u001b[0m             \u001b[0;32mif\u001b[0m \u001b[0mis_iterator\u001b[0m\u001b[0;34m(\u001b[0m\u001b[0mkey\u001b[0m\u001b[0;34m)\u001b[0m\u001b[0;34m:\u001b[0m\u001b[0;34m\u001b[0m\u001b[0;34m\u001b[0m\u001b[0m\n\u001b[1;32m   2805\u001b[0m                 \u001b[0mkey\u001b[0m \u001b[0;34m=\u001b[0m \u001b[0mlist\u001b[0m\u001b[0;34m(\u001b[0m\u001b[0mkey\u001b[0m\u001b[0;34m)\u001b[0m\u001b[0;34m\u001b[0m\u001b[0;34m\u001b[0m\u001b[0m\n\u001b[0;32m-> 2806\u001b[0;31m             \u001b[0mindexer\u001b[0m \u001b[0;34m=\u001b[0m \u001b[0mself\u001b[0m\u001b[0;34m.\u001b[0m\u001b[0mloc\u001b[0m\u001b[0;34m.\u001b[0m\u001b[0m_get_listlike_indexer\u001b[0m\u001b[0;34m(\u001b[0m\u001b[0mkey\u001b[0m\u001b[0;34m,\u001b[0m \u001b[0maxis\u001b[0m\u001b[0;34m=\u001b[0m\u001b[0;36m1\u001b[0m\u001b[0;34m,\u001b[0m \u001b[0mraise_missing\u001b[0m\u001b[0;34m=\u001b[0m\u001b[0;32mTrue\u001b[0m\u001b[0;34m)\u001b[0m\u001b[0;34m[\u001b[0m\u001b[0;36m1\u001b[0m\u001b[0;34m]\u001b[0m\u001b[0;34m\u001b[0m\u001b[0;34m\u001b[0m\u001b[0m\n\u001b[0m\u001b[1;32m   2807\u001b[0m \u001b[0;34m\u001b[0m\u001b[0m\n\u001b[1;32m   2808\u001b[0m         \u001b[0;31m# take() does not accept boolean indexers\u001b[0m\u001b[0;34m\u001b[0m\u001b[0;34m\u001b[0m\u001b[0;34m\u001b[0m\u001b[0m\n",
            "\u001b[0;32m/usr/local/lib/python3.6/dist-packages/pandas/core/indexing.py\u001b[0m in \u001b[0;36m_get_listlike_indexer\u001b[0;34m(self, key, axis, raise_missing)\u001b[0m\n\u001b[1;32m   1551\u001b[0m \u001b[0;34m\u001b[0m\u001b[0m\n\u001b[1;32m   1552\u001b[0m         self._validate_read_indexer(\n\u001b[0;32m-> 1553\u001b[0;31m             \u001b[0mkeyarr\u001b[0m\u001b[0;34m,\u001b[0m \u001b[0mindexer\u001b[0m\u001b[0;34m,\u001b[0m \u001b[0mo\u001b[0m\u001b[0;34m.\u001b[0m\u001b[0m_get_axis_number\u001b[0m\u001b[0;34m(\u001b[0m\u001b[0maxis\u001b[0m\u001b[0;34m)\u001b[0m\u001b[0;34m,\u001b[0m \u001b[0mraise_missing\u001b[0m\u001b[0;34m=\u001b[0m\u001b[0mraise_missing\u001b[0m\u001b[0;34m\u001b[0m\u001b[0;34m\u001b[0m\u001b[0m\n\u001b[0m\u001b[1;32m   1554\u001b[0m         )\n\u001b[1;32m   1555\u001b[0m         \u001b[0;32mreturn\u001b[0m \u001b[0mkeyarr\u001b[0m\u001b[0;34m,\u001b[0m \u001b[0mindexer\u001b[0m\u001b[0;34m\u001b[0m\u001b[0;34m\u001b[0m\u001b[0m\n",
            "\u001b[0;32m/usr/local/lib/python3.6/dist-packages/pandas/core/indexing.py\u001b[0m in \u001b[0;36m_validate_read_indexer\u001b[0;34m(self, key, indexer, axis, raise_missing)\u001b[0m\n\u001b[1;32m   1644\u001b[0m             \u001b[0;32mif\u001b[0m \u001b[0;32mnot\u001b[0m \u001b[0;34m(\u001b[0m\u001b[0mself\u001b[0m\u001b[0;34m.\u001b[0m\u001b[0mname\u001b[0m \u001b[0;34m==\u001b[0m \u001b[0;34m\"loc\"\u001b[0m \u001b[0;32mand\u001b[0m \u001b[0;32mnot\u001b[0m \u001b[0mraise_missing\u001b[0m\u001b[0;34m)\u001b[0m\u001b[0;34m:\u001b[0m\u001b[0;34m\u001b[0m\u001b[0;34m\u001b[0m\u001b[0m\n\u001b[1;32m   1645\u001b[0m                 \u001b[0mnot_found\u001b[0m \u001b[0;34m=\u001b[0m \u001b[0mlist\u001b[0m\u001b[0;34m(\u001b[0m\u001b[0mset\u001b[0m\u001b[0;34m(\u001b[0m\u001b[0mkey\u001b[0m\u001b[0;34m)\u001b[0m \u001b[0;34m-\u001b[0m \u001b[0mset\u001b[0m\u001b[0;34m(\u001b[0m\u001b[0max\u001b[0m\u001b[0;34m)\u001b[0m\u001b[0;34m)\u001b[0m\u001b[0;34m\u001b[0m\u001b[0;34m\u001b[0m\u001b[0m\n\u001b[0;32m-> 1646\u001b[0;31m                 \u001b[0;32mraise\u001b[0m \u001b[0mKeyError\u001b[0m\u001b[0;34m(\u001b[0m\u001b[0;34mf\"{not_found} not in index\"\u001b[0m\u001b[0;34m)\u001b[0m\u001b[0;34m\u001b[0m\u001b[0;34m\u001b[0m\u001b[0m\n\u001b[0m\u001b[1;32m   1647\u001b[0m \u001b[0;34m\u001b[0m\u001b[0m\n\u001b[1;32m   1648\u001b[0m             \u001b[0;31m# we skip the warning on Categorical/Interval\u001b[0m\u001b[0;34m\u001b[0m\u001b[0;34m\u001b[0m\u001b[0;34m\u001b[0m\u001b[0m\n",
            "\u001b[0;31mKeyError\u001b[0m: \"['col1_411'] not in index\""
          ]
        },
        {
          "output_type": "display_data",
          "data": {
            "image/png": "[encoded data removed]",
            "text/plain": [
              "<Figure size 12348x504 with 35 Axes>"
            ]
          },
          "metadata": {
            "tags": [],
            "needs_background": "light"
          }
        }
      ]
    },
    {
      "cell_type": "code",
      "metadata": {
        "id": "lU_Oo3BN6lku",
        "colab_type": "code",
        "colab": {}
      },
      "source": [
        "from sklearn.model_selection import train_test_split\n",
        "\n",
        "x_train,x_test,y_train,y_test = train_test_split(x,y,test_size=0.2, random_state=0)"
      ],
      "execution_count": null,
      "outputs": []
    },
    {
      "cell_type": "code",
      "metadata": {
        "id": "vb1aFNhj8siK",
        "colab_type": "code",
        "colab": {
          "base_uri": "https://localhost:8080/",
          "height": 34
        },
        "outputId": "ae3dc31e-a7a0-4b0f-f685-2e11570c529e"
      },
      "source": [
        "model = LinearRegression()\n",
        "model.fit(x_train,y_train)"
      ],
      "execution_count": null,
      "outputs": [
        {
          "output_type": "execute_result",
          "data": {
            "text/plain": [
              "LinearRegression(copy_X=True, fit_intercept=True, n_jobs=None, normalize=False)"
            ]
          },
          "metadata": {
            "tags": []
          },
          "execution_count": 366
        }
      ]
    },
    {
      "cell_type": "code",
      "metadata": {
        "id": "PnxSgBy7OXr9",
        "colab_type": "code",
        "colab": {
          "base_uri": "https://localhost:8080/",
          "height": 119
        },
        "outputId": "6b1ea0f8-acb6-4ccb-f078-87b749969ebd"
      },
      "source": [
        "from sklearn.tree import  DecisionTreeRegressor\n",
        "model2 = DecisionTreeRegressor()\n",
        "model2.fit(x_train,y_train)"
      ],
      "execution_count": null,
      "outputs": [
        {
          "output_type": "execute_result",
          "data": {
            "text/plain": [
              "DecisionTreeRegressor(ccp_alpha=0.0, criterion='mse', max_depth=None,\n",
              "                      max_features=None, max_leaf_nodes=None,\n",
              "                      min_impurity_decrease=0.0, min_impurity_split=None,\n",
              "                      min_samples_leaf=1, min_samples_split=2,\n",
              "                      min_weight_fraction_leaf=0.0, presort='deprecated',\n",
              "                      random_state=None, splitter='best')"
            ]
          },
          "metadata": {
            "tags": []
          },
          "execution_count": 367
        }
      ]
    },
    {
      "cell_type": "code",
      "metadata": {
        "id": "HKW0ts0hPipo",
        "colab_type": "code",
        "colab": {
          "base_uri": "https://localhost:8080/",
          "height": 105
        },
        "outputId": "c1893d69-dc2b-4571-adb2-702628928a47"
      },
      "source": [
        "from sklearn.svm import SVR\n",
        "model3 = SVR()\n",
        "model3.fit(x_train,y_train,)"
      ],
      "execution_count": null,
      "outputs": [
        {
          "output_type": "stream",
          "text": [
            "/usr/local/lib/python3.6/dist-packages/sklearn/utils/validation.py:760: DataConversionWarning: A column-vector y was passed when a 1d array was expected. Please change the shape of y to (n_samples, ), for example using ravel().\n",
            "  y = column_or_1d(y, warn=True)\n"
          ],
          "name": "stderr"
        },
        {
          "output_type": "execute_result",
          "data": {
            "text/plain": [
              "SVR(C=1.0, cache_size=200, coef0=0.0, degree=3, epsilon=0.1, gamma='scale',\n",
              "    kernel='rbf', max_iter=-1, shrinking=True, tol=0.001, verbose=False)"
            ]
          },
          "metadata": {
            "tags": []
          },
          "execution_count": 368
        }
      ]
    },
    {
      "cell_type": "code",
      "metadata": {
        "id": "W9aWqBsA8604",
        "colab_type": "code",
        "colab": {
          "base_uri": "https://localhost:8080/",
          "height": 34
        },
        "outputId": "8a4a8d96-e0bb-489a-dd54-8ed4c3f5adaf"
      },
      "source": [
        "model.score(x_train,y_train)"
      ],
      "execution_count": null,
      "outputs": [
        {
          "output_type": "execute_result",
          "data": {
            "text/plain": [
              "0.9999999820193426"
            ]
          },
          "metadata": {
            "tags": []
          },
          "execution_count": 369
        }
      ]
    },
    {
      "cell_type": "code",
      "metadata": {
        "id": "ZlHtHV4eO9LH",
        "colab_type": "code",
        "colab": {
          "base_uri": "https://localhost:8080/",
          "height": 34
        },
        "outputId": "fb09a4bb-d0e5-440c-b4e4-2fb20d66a6f9"
      },
      "source": [
        "model2.score(x_train,y_train)"
      ],
      "execution_count": null,
      "outputs": [
        {
          "output_type": "execute_result",
          "data": {
            "text/plain": [
              "1.0"
            ]
          },
          "metadata": {
            "tags": []
          },
          "execution_count": 426
        }
      ]
    },
    {
      "cell_type": "code",
      "metadata": {
        "id": "fl4_7K5HP0Na",
        "colab_type": "code",
        "colab": {
          "base_uri": "https://localhost:8080/",
          "height": 51
        },
        "outputId": "09dfc80e-a35a-49b1-b84c-1a70c186333a"
      },
      "source": [
        "print(model3.score(x_train,y_train))\n",
        "print(model3.score(x_test,y_test))"
      ],
      "execution_count": null,
      "outputs": [
        {
          "output_type": "stream",
          "text": [
            "0.0020182576770173544\n",
            "-0.0012046147268294227\n"
          ],
          "name": "stdout"
        }
      ]
    },
    {
      "cell_type": "code",
      "metadata": {
        "id": "6FDMwRQ39hcZ",
        "colab_type": "code",
        "colab": {}
      },
      "source": [
        "from sklearn import metrics"
      ],
      "execution_count": null,
      "outputs": []
    },
    {
      "cell_type": "code",
      "metadata": {
        "id": "TFUNuYMl-CF-",
        "colab_type": "code",
        "colab": {}
      },
      "source": [
        "predicted = model.predict(x_test)"
      ],
      "execution_count": null,
      "outputs": []
    },
    {
      "cell_type": "code",
      "metadata": {
        "id": "syQ9BUuX_BrR",
        "colab_type": "code",
        "colab": {}
      },
      "source": [
        "predicted = pd.DataFrame(predicted)"
      ],
      "execution_count": null,
      "outputs": []
    },
    {
      "cell_type": "code",
      "metadata": {
        "id": "WAprI6tNPFEW",
        "colab_type": "code",
        "colab": {}
      },
      "source": [
        "predicted2 = pd.DataFrame(model2.predict(x_test))"
      ],
      "execution_count": null,
      "outputs": []
    },
    {
      "cell_type": "code",
      "metadata": {
        "id": "-sBVHJ9EP9ew",
        "colab_type": "code",
        "colab": {}
      },
      "source": [
        "predicted3 = pd.DataFrame(model3.predict(x_test))"
      ],
      "execution_count": null,
      "outputs": []
    },
    {
      "cell_type": "code",
      "metadata": {
        "id": "V9FXxsjh-KSJ",
        "colab_type": "code",
        "colab": {
          "base_uri": "https://localhost:8080/",
          "height": 282
        },
        "outputId": "f00f3015-48e4-499c-9116-a0853356b367"
      },
      "source": [
        "\n",
        "plt.scatter(predicted,y_test,cmap='3d',alpha=0.7)\n",
        "plt.legend()\n",
        "plt.show()"
      ],
      "execution_count": null,
      "outputs": [
        {
          "output_type": "stream",
          "text": [
            "No handles with labels found to put in legend.\n"
          ],
          "name": "stderr"
        },
        {
          "output_type": "display_data",
          "data": {
            "image/png": "[encoded data removed]",
            "text/plain": [
              "<Figure size 432x288 with 1 Axes>"
            ]
          },
          "metadata": {
            "tags": [],
            "needs_background": "light"
          }
        }
      ]
    },
    {
      "cell_type": "code",
      "metadata": {
        "id": "4RT8xNL_PKhl",
        "colab_type": "code",
        "colab": {
          "base_uri": "https://localhost:8080/",
          "height": 282
        },
        "outputId": "d0f20093-765a-435b-a16f-3dde4be0ffd2"
      },
      "source": [
        "plt.scatter(y_test,predicted2,cmap='3d',c='green')"
      ],
      "execution_count": null,
      "outputs": [
        {
          "output_type": "execute_result",
          "data": {
            "text/plain": [
              "<matplotlib.collections.PathCollection at 0x7f2c4df58160>"
            ]
          },
          "metadata": {
            "tags": []
          },
          "execution_count": 378
        },
        {
          "output_type": "display_data",
          "data": {
            "image/png": "[encoded data removed]",
            "text/plain": [
              "<Figure size 432x288 with 1 Axes>"
            ]
          },
          "metadata": {
            "tags": [],
            "needs_background": "light"
          }
        }
      ]
    },
    {
      "cell_type": "code",
      "metadata": {
        "id": "Zf9ZgXerQCUK",
        "colab_type": "code",
        "colab": {
          "base_uri": "https://localhost:8080/",
          "height": 282
        },
        "outputId": "8583e878-3b62-49db-85e5-8e23bdbc90c9"
      },
      "source": [
        "plt.scatter(y_test,predicted3,cmap='3d',color='red')"
      ],
      "execution_count": null,
      "outputs": [
        {
          "output_type": "execute_result",
          "data": {
            "text/plain": [
              "<matplotlib.collections.PathCollection at 0x7f2c4deb3940>"
            ]
          },
          "metadata": {
            "tags": []
          },
          "execution_count": 379
        },
        {
          "output_type": "display_data",
          "data": {
            "image/png": "[encoded data removed]",
            "text/plain": [
              "<Figure size 432x288 with 1 Axes>"
            ]
          },
          "metadata": {
            "tags": [],
            "needs_background": "light"
          }
        }
      ]
    },
    {
      "cell_type": "code",
      "metadata": {
        "id": "Mnqk7t8bGDKB",
        "colab_type": "code",
        "colab": {
          "base_uri": "https://localhost:8080/",
          "height": 51
        },
        "outputId": "be9e67b1-bba8-4aeb-a24d-ddd05abbdc33"
      },
      "source": [
        "#Multiple Regression\n",
        "abs = metrics.mean_absolute_error(y_test,predicted)\n",
        "rmse = metrics.mean_squared_error(y_test,predicted)\n",
        "print(abs)\n",
        "print(rmse)\n"
      ],
      "execution_count": null,
      "outputs": [
        {
          "output_type": "stream",
          "text": [
            "1.2325016045168014\n",
            "2.4902642458647635\n"
          ],
          "name": "stdout"
        }
      ]
    },
    {
      "cell_type": "code",
      "metadata": {
        "id": "KAVk6Q0iGRV8",
        "colab_type": "code",
        "colab": {
          "base_uri": "https://localhost:8080/",
          "height": 51
        },
        "outputId": "3d9b132f-187e-4bda-e9eb-bf1e8bfd4ed6"
      },
      "source": [
        "#Decision Tree Regressor\n",
        "abs2 = metrics.mean_absolute_error(y_test,predicted2)\n",
        "rmse2 = metrics.mean_squared_error(y_test,predicted2)\n",
        "print(abs2)\n",
        "print(rmse2)"
      ],
      "execution_count": null,
      "outputs": [
        {
          "output_type": "stream",
          "text": [
            "2862.8254196000016\n",
            "13069121.524163518\n"
          ],
          "name": "stdout"
        }
      ]
    },
    {
      "cell_type": "code",
      "metadata": {
        "id": "sQIqJO4tQNXz",
        "colab_type": "code",
        "colab": {
          "base_uri": "https://localhost:8080/",
          "height": 51
        },
        "outputId": "649ba284-abf4-4c2f-8d3e-d25799f6ccd9"
      },
      "source": [
        "#Support Vector Regressor\n",
        "abs3 = metrics.mean_absolute_error(y_test,predicted3)\n",
        "rmse3 = metrics.mean_squared_error(y_test,predicted3)\n",
        "print(abs3)\n",
        "print(rmse3)"
      ],
      "execution_count": null,
      "outputs": [
        {
          "output_type": "stream",
          "text": [
            "8923.694606113399\n",
            "120588502.68375081\n"
          ],
          "name": "stdout"
        }
      ]
    },
    {
      "cell_type": "markdown",
      "metadata": {
        "id": "hEuYlR5MQZsR",
        "colab_type": "text"
      },
      "source": [
        "# Best Model according to the metrics and scatter plots is Model no 1 i.e. **Multiple** **Regression**"
      ]
    }
  ]
}